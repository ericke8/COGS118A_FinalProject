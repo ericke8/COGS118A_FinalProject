{
 "cells": [
  {
   "cell_type": "code",
   "execution_count": 1,
   "metadata": {},
   "outputs": [],
   "source": [
    "import numpy as np\n",
    "import pandas as pd\n",
    "\n",
    "%matplotlib inline\n",
    "\n",
    "from sklearn.linear_model import LogisticRegression\n",
    "from sklearn.svm import SVC, LinearSVC\n",
    "from sklearn.tree import DecisionTreeClassifier\n",
    "from sklearn.neighbors import KNeighborsClassifier\n",
    "from sklearn.ensemble import GradientBoostingClassifier, RandomForestClassifier\n",
    "\n",
    "from sklearn.model_selection import train_test_split, GridSearchCV, KFold\n",
    "from sklearn.metrics import accuracy_score, f1_score\n",
    "from sklearn.preprocessing import LabelEncoder, StandardScaler"
   ]
  },
  {
   "cell_type": "code",
   "execution_count": 2,
   "metadata": {},
   "outputs": [
    {
     "name": "stdout",
     "output_type": "stream",
     "text": [
      "(32561, 15)\n"
     ]
    }
   ],
   "source": [
    "adult = pd.read_csv('data/adult.csv', na_values = '?')\n",
    "print(adult.shape)"
   ]
  },
  {
   "cell_type": "code",
   "execution_count": 3,
   "metadata": {},
   "outputs": [
    {
     "data": {
      "text/html": [
       "<div>\n",
       "<style scoped>\n",
       "    .dataframe tbody tr th:only-of-type {\n",
       "        vertical-align: middle;\n",
       "    }\n",
       "\n",
       "    .dataframe tbody tr th {\n",
       "        vertical-align: top;\n",
       "    }\n",
       "\n",
       "    .dataframe thead th {\n",
       "        text-align: right;\n",
       "    }\n",
       "</style>\n",
       "<table border=\"1\" class=\"dataframe\">\n",
       "  <thead>\n",
       "    <tr style=\"text-align: right;\">\n",
       "      <th></th>\n",
       "      <th>age</th>\n",
       "      <th>fnlwgt</th>\n",
       "      <th>education.num</th>\n",
       "      <th>capital.gain</th>\n",
       "      <th>capital.loss</th>\n",
       "      <th>hours.per.week</th>\n",
       "    </tr>\n",
       "  </thead>\n",
       "  <tbody>\n",
       "    <tr>\n",
       "      <th>count</th>\n",
       "      <td>32561.000000</td>\n",
       "      <td>3.256100e+04</td>\n",
       "      <td>32561.000000</td>\n",
       "      <td>32561.000000</td>\n",
       "      <td>32561.000000</td>\n",
       "      <td>32561.000000</td>\n",
       "    </tr>\n",
       "    <tr>\n",
       "      <th>mean</th>\n",
       "      <td>38.581647</td>\n",
       "      <td>1.897784e+05</td>\n",
       "      <td>10.080679</td>\n",
       "      <td>1077.648844</td>\n",
       "      <td>87.303830</td>\n",
       "      <td>40.437456</td>\n",
       "    </tr>\n",
       "    <tr>\n",
       "      <th>std</th>\n",
       "      <td>13.640433</td>\n",
       "      <td>1.055500e+05</td>\n",
       "      <td>2.572720</td>\n",
       "      <td>7385.292085</td>\n",
       "      <td>402.960219</td>\n",
       "      <td>12.347429</td>\n",
       "    </tr>\n",
       "    <tr>\n",
       "      <th>min</th>\n",
       "      <td>17.000000</td>\n",
       "      <td>1.228500e+04</td>\n",
       "      <td>1.000000</td>\n",
       "      <td>0.000000</td>\n",
       "      <td>0.000000</td>\n",
       "      <td>1.000000</td>\n",
       "    </tr>\n",
       "    <tr>\n",
       "      <th>25%</th>\n",
       "      <td>28.000000</td>\n",
       "      <td>1.178270e+05</td>\n",
       "      <td>9.000000</td>\n",
       "      <td>0.000000</td>\n",
       "      <td>0.000000</td>\n",
       "      <td>40.000000</td>\n",
       "    </tr>\n",
       "    <tr>\n",
       "      <th>50%</th>\n",
       "      <td>37.000000</td>\n",
       "      <td>1.783560e+05</td>\n",
       "      <td>10.000000</td>\n",
       "      <td>0.000000</td>\n",
       "      <td>0.000000</td>\n",
       "      <td>40.000000</td>\n",
       "    </tr>\n",
       "    <tr>\n",
       "      <th>75%</th>\n",
       "      <td>48.000000</td>\n",
       "      <td>2.370510e+05</td>\n",
       "      <td>12.000000</td>\n",
       "      <td>0.000000</td>\n",
       "      <td>0.000000</td>\n",
       "      <td>45.000000</td>\n",
       "    </tr>\n",
       "    <tr>\n",
       "      <th>max</th>\n",
       "      <td>90.000000</td>\n",
       "      <td>1.484705e+06</td>\n",
       "      <td>16.000000</td>\n",
       "      <td>99999.000000</td>\n",
       "      <td>4356.000000</td>\n",
       "      <td>99.000000</td>\n",
       "    </tr>\n",
       "  </tbody>\n",
       "</table>\n",
       "</div>"
      ],
      "text/plain": [
       "                age        fnlwgt  education.num  capital.gain  capital.loss  \\\n",
       "count  32561.000000  3.256100e+04   32561.000000  32561.000000  32561.000000   \n",
       "mean      38.581647  1.897784e+05      10.080679   1077.648844     87.303830   \n",
       "std       13.640433  1.055500e+05       2.572720   7385.292085    402.960219   \n",
       "min       17.000000  1.228500e+04       1.000000      0.000000      0.000000   \n",
       "25%       28.000000  1.178270e+05       9.000000      0.000000      0.000000   \n",
       "50%       37.000000  1.783560e+05      10.000000      0.000000      0.000000   \n",
       "75%       48.000000  2.370510e+05      12.000000      0.000000      0.000000   \n",
       "max       90.000000  1.484705e+06      16.000000  99999.000000   4356.000000   \n",
       "\n",
       "       hours.per.week  \n",
       "count    32561.000000  \n",
       "mean        40.437456  \n",
       "std         12.347429  \n",
       "min          1.000000  \n",
       "25%         40.000000  \n",
       "50%         40.000000  \n",
       "75%         45.000000  \n",
       "max         99.000000  "
      ]
     },
     "execution_count": 3,
     "metadata": {},
     "output_type": "execute_result"
    }
   ],
   "source": [
    "adult.describe()"
   ]
  },
  {
   "cell_type": "code",
   "execution_count": 4,
   "metadata": {},
   "outputs": [
    {
     "data": {
      "text/html": [
       "<div>\n",
       "<style scoped>\n",
       "    .dataframe tbody tr th:only-of-type {\n",
       "        vertical-align: middle;\n",
       "    }\n",
       "\n",
       "    .dataframe tbody tr th {\n",
       "        vertical-align: top;\n",
       "    }\n",
       "\n",
       "    .dataframe thead th {\n",
       "        text-align: right;\n",
       "    }\n",
       "</style>\n",
       "<table border=\"1\" class=\"dataframe\">\n",
       "  <thead>\n",
       "    <tr style=\"text-align: right;\">\n",
       "      <th></th>\n",
       "      <th>age</th>\n",
       "      <th>workclass</th>\n",
       "      <th>fnlwgt</th>\n",
       "      <th>education</th>\n",
       "      <th>education.num</th>\n",
       "      <th>marital.status</th>\n",
       "      <th>occupation</th>\n",
       "      <th>relationship</th>\n",
       "      <th>race</th>\n",
       "      <th>sex</th>\n",
       "      <th>capital.gain</th>\n",
       "      <th>capital.loss</th>\n",
       "      <th>hours.per.week</th>\n",
       "      <th>native.country</th>\n",
       "      <th>income</th>\n",
       "    </tr>\n",
       "  </thead>\n",
       "  <tbody>\n",
       "    <tr>\n",
       "      <th>0</th>\n",
       "      <td>90</td>\n",
       "      <td>NaN</td>\n",
       "      <td>77053</td>\n",
       "      <td>HS-grad</td>\n",
       "      <td>9</td>\n",
       "      <td>Widowed</td>\n",
       "      <td>NaN</td>\n",
       "      <td>Not-in-family</td>\n",
       "      <td>White</td>\n",
       "      <td>Female</td>\n",
       "      <td>0</td>\n",
       "      <td>4356</td>\n",
       "      <td>40</td>\n",
       "      <td>United-States</td>\n",
       "      <td>&lt;=50K</td>\n",
       "    </tr>\n",
       "    <tr>\n",
       "      <th>1</th>\n",
       "      <td>82</td>\n",
       "      <td>Private</td>\n",
       "      <td>132870</td>\n",
       "      <td>HS-grad</td>\n",
       "      <td>9</td>\n",
       "      <td>Widowed</td>\n",
       "      <td>Exec-managerial</td>\n",
       "      <td>Not-in-family</td>\n",
       "      <td>White</td>\n",
       "      <td>Female</td>\n",
       "      <td>0</td>\n",
       "      <td>4356</td>\n",
       "      <td>18</td>\n",
       "      <td>United-States</td>\n",
       "      <td>&lt;=50K</td>\n",
       "    </tr>\n",
       "    <tr>\n",
       "      <th>2</th>\n",
       "      <td>66</td>\n",
       "      <td>NaN</td>\n",
       "      <td>186061</td>\n",
       "      <td>Some-college</td>\n",
       "      <td>10</td>\n",
       "      <td>Widowed</td>\n",
       "      <td>NaN</td>\n",
       "      <td>Unmarried</td>\n",
       "      <td>Black</td>\n",
       "      <td>Female</td>\n",
       "      <td>0</td>\n",
       "      <td>4356</td>\n",
       "      <td>40</td>\n",
       "      <td>United-States</td>\n",
       "      <td>&lt;=50K</td>\n",
       "    </tr>\n",
       "    <tr>\n",
       "      <th>3</th>\n",
       "      <td>54</td>\n",
       "      <td>Private</td>\n",
       "      <td>140359</td>\n",
       "      <td>7th-8th</td>\n",
       "      <td>4</td>\n",
       "      <td>Divorced</td>\n",
       "      <td>Machine-op-inspct</td>\n",
       "      <td>Unmarried</td>\n",
       "      <td>White</td>\n",
       "      <td>Female</td>\n",
       "      <td>0</td>\n",
       "      <td>3900</td>\n",
       "      <td>40</td>\n",
       "      <td>United-States</td>\n",
       "      <td>&lt;=50K</td>\n",
       "    </tr>\n",
       "    <tr>\n",
       "      <th>4</th>\n",
       "      <td>41</td>\n",
       "      <td>Private</td>\n",
       "      <td>264663</td>\n",
       "      <td>Some-college</td>\n",
       "      <td>10</td>\n",
       "      <td>Separated</td>\n",
       "      <td>Prof-specialty</td>\n",
       "      <td>Own-child</td>\n",
       "      <td>White</td>\n",
       "      <td>Female</td>\n",
       "      <td>0</td>\n",
       "      <td>3900</td>\n",
       "      <td>40</td>\n",
       "      <td>United-States</td>\n",
       "      <td>&lt;=50K</td>\n",
       "    </tr>\n",
       "  </tbody>\n",
       "</table>\n",
       "</div>"
      ],
      "text/plain": [
       "   age workclass  fnlwgt     education  education.num marital.status  \\\n",
       "0   90       NaN   77053       HS-grad              9        Widowed   \n",
       "1   82   Private  132870       HS-grad              9        Widowed   \n",
       "2   66       NaN  186061  Some-college             10        Widowed   \n",
       "3   54   Private  140359       7th-8th              4       Divorced   \n",
       "4   41   Private  264663  Some-college             10      Separated   \n",
       "\n",
       "          occupation   relationship   race     sex  capital.gain  \\\n",
       "0                NaN  Not-in-family  White  Female             0   \n",
       "1    Exec-managerial  Not-in-family  White  Female             0   \n",
       "2                NaN      Unmarried  Black  Female             0   \n",
       "3  Machine-op-inspct      Unmarried  White  Female             0   \n",
       "4     Prof-specialty      Own-child  White  Female             0   \n",
       "\n",
       "   capital.loss  hours.per.week native.country income  \n",
       "0          4356              40  United-States  <=50K  \n",
       "1          4356              18  United-States  <=50K  \n",
       "2          4356              40  United-States  <=50K  \n",
       "3          3900              40  United-States  <=50K  \n",
       "4          3900              40  United-States  <=50K  "
      ]
     },
     "execution_count": 4,
     "metadata": {},
     "output_type": "execute_result"
    }
   ],
   "source": [
    "adult.head()"
   ]
  },
  {
   "cell_type": "code",
   "execution_count": 5,
   "metadata": {},
   "outputs": [
    {
     "data": {
      "text/html": [
       "<div>\n",
       "<style scoped>\n",
       "    .dataframe tbody tr th:only-of-type {\n",
       "        vertical-align: middle;\n",
       "    }\n",
       "\n",
       "    .dataframe tbody tr th {\n",
       "        vertical-align: top;\n",
       "    }\n",
       "\n",
       "    .dataframe thead th {\n",
       "        text-align: right;\n",
       "    }\n",
       "</style>\n",
       "<table border=\"1\" class=\"dataframe\">\n",
       "  <thead>\n",
       "    <tr style=\"text-align: right;\">\n",
       "      <th></th>\n",
       "      <th>age</th>\n",
       "      <th>workclass</th>\n",
       "      <th>fnlwgt</th>\n",
       "      <th>education</th>\n",
       "      <th>education.num</th>\n",
       "      <th>marital.status</th>\n",
       "      <th>occupation</th>\n",
       "      <th>relationship</th>\n",
       "      <th>race</th>\n",
       "      <th>sex</th>\n",
       "      <th>capital.gain</th>\n",
       "      <th>capital.loss</th>\n",
       "      <th>hours.per.week</th>\n",
       "      <th>native.country</th>\n",
       "      <th>income</th>\n",
       "    </tr>\n",
       "  </thead>\n",
       "  <tbody>\n",
       "    <tr>\n",
       "      <th>0</th>\n",
       "      <td>90</td>\n",
       "      <td>NaN</td>\n",
       "      <td>77053</td>\n",
       "      <td>HS-grad</td>\n",
       "      <td>9</td>\n",
       "      <td>Widowed</td>\n",
       "      <td>NaN</td>\n",
       "      <td>Not-in-family</td>\n",
       "      <td>White</td>\n",
       "      <td>Female</td>\n",
       "      <td>0</td>\n",
       "      <td>4356</td>\n",
       "      <td>40</td>\n",
       "      <td>United-States</td>\n",
       "      <td>0</td>\n",
       "    </tr>\n",
       "    <tr>\n",
       "      <th>1</th>\n",
       "      <td>82</td>\n",
       "      <td>Private</td>\n",
       "      <td>132870</td>\n",
       "      <td>HS-grad</td>\n",
       "      <td>9</td>\n",
       "      <td>Widowed</td>\n",
       "      <td>Exec-managerial</td>\n",
       "      <td>Not-in-family</td>\n",
       "      <td>White</td>\n",
       "      <td>Female</td>\n",
       "      <td>0</td>\n",
       "      <td>4356</td>\n",
       "      <td>18</td>\n",
       "      <td>United-States</td>\n",
       "      <td>0</td>\n",
       "    </tr>\n",
       "    <tr>\n",
       "      <th>2</th>\n",
       "      <td>66</td>\n",
       "      <td>NaN</td>\n",
       "      <td>186061</td>\n",
       "      <td>Some-college</td>\n",
       "      <td>10</td>\n",
       "      <td>Widowed</td>\n",
       "      <td>NaN</td>\n",
       "      <td>Unmarried</td>\n",
       "      <td>Black</td>\n",
       "      <td>Female</td>\n",
       "      <td>0</td>\n",
       "      <td>4356</td>\n",
       "      <td>40</td>\n",
       "      <td>United-States</td>\n",
       "      <td>0</td>\n",
       "    </tr>\n",
       "    <tr>\n",
       "      <th>3</th>\n",
       "      <td>54</td>\n",
       "      <td>Private</td>\n",
       "      <td>140359</td>\n",
       "      <td>7th-8th</td>\n",
       "      <td>4</td>\n",
       "      <td>Divorced</td>\n",
       "      <td>Machine-op-inspct</td>\n",
       "      <td>Unmarried</td>\n",
       "      <td>White</td>\n",
       "      <td>Female</td>\n",
       "      <td>0</td>\n",
       "      <td>3900</td>\n",
       "      <td>40</td>\n",
       "      <td>United-States</td>\n",
       "      <td>0</td>\n",
       "    </tr>\n",
       "    <tr>\n",
       "      <th>4</th>\n",
       "      <td>41</td>\n",
       "      <td>Private</td>\n",
       "      <td>264663</td>\n",
       "      <td>Some-college</td>\n",
       "      <td>10</td>\n",
       "      <td>Separated</td>\n",
       "      <td>Prof-specialty</td>\n",
       "      <td>Own-child</td>\n",
       "      <td>White</td>\n",
       "      <td>Female</td>\n",
       "      <td>0</td>\n",
       "      <td>3900</td>\n",
       "      <td>40</td>\n",
       "      <td>United-States</td>\n",
       "      <td>0</td>\n",
       "    </tr>\n",
       "  </tbody>\n",
       "</table>\n",
       "</div>"
      ],
      "text/plain": [
       "   age workclass  fnlwgt     education  education.num marital.status  \\\n",
       "0   90       NaN   77053       HS-grad              9        Widowed   \n",
       "1   82   Private  132870       HS-grad              9        Widowed   \n",
       "2   66       NaN  186061  Some-college             10        Widowed   \n",
       "3   54   Private  140359       7th-8th              4       Divorced   \n",
       "4   41   Private  264663  Some-college             10      Separated   \n",
       "\n",
       "          occupation   relationship   race     sex  capital.gain  \\\n",
       "0                NaN  Not-in-family  White  Female             0   \n",
       "1    Exec-managerial  Not-in-family  White  Female             0   \n",
       "2                NaN      Unmarried  Black  Female             0   \n",
       "3  Machine-op-inspct      Unmarried  White  Female             0   \n",
       "4     Prof-specialty      Own-child  White  Female             0   \n",
       "\n",
       "   capital.loss  hours.per.week native.country  income  \n",
       "0          4356              40  United-States       0  \n",
       "1          4356              18  United-States       0  \n",
       "2          4356              40  United-States       0  \n",
       "3          3900              40  United-States       0  \n",
       "4          3900              40  United-States       0  "
      ]
     },
     "execution_count": 5,
     "metadata": {},
     "output_type": "execute_result"
    }
   ],
   "source": [
    "adult['income'] = adult['income'].map({\n",
    "        '<=50K': 0,\n",
    "        '>50K': 1,\n",
    "        '<=50K.': 0,\n",
    "        '>50K.': 1\n",
    "})\n",
    "adult.head()"
   ]
  },
  {
   "cell_type": "code",
   "execution_count": 6,
   "metadata": {},
   "outputs": [
    {
     "name": "stdout",
     "output_type": "stream",
     "text": [
      "(30162, 15)\n"
     ]
    },
    {
     "data": {
      "text/html": [
       "<div>\n",
       "<style scoped>\n",
       "    .dataframe tbody tr th:only-of-type {\n",
       "        vertical-align: middle;\n",
       "    }\n",
       "\n",
       "    .dataframe tbody tr th {\n",
       "        vertical-align: top;\n",
       "    }\n",
       "\n",
       "    .dataframe thead th {\n",
       "        text-align: right;\n",
       "    }\n",
       "</style>\n",
       "<table border=\"1\" class=\"dataframe\">\n",
       "  <thead>\n",
       "    <tr style=\"text-align: right;\">\n",
       "      <th></th>\n",
       "      <th>age</th>\n",
       "      <th>workclass</th>\n",
       "      <th>fnlwgt</th>\n",
       "      <th>education</th>\n",
       "      <th>education.num</th>\n",
       "      <th>marital.status</th>\n",
       "      <th>occupation</th>\n",
       "      <th>relationship</th>\n",
       "      <th>race</th>\n",
       "      <th>sex</th>\n",
       "      <th>capital.gain</th>\n",
       "      <th>capital.loss</th>\n",
       "      <th>hours.per.week</th>\n",
       "      <th>native.country</th>\n",
       "      <th>income</th>\n",
       "    </tr>\n",
       "  </thead>\n",
       "  <tbody>\n",
       "    <tr>\n",
       "      <th>1</th>\n",
       "      <td>82</td>\n",
       "      <td>Private</td>\n",
       "      <td>132870</td>\n",
       "      <td>HS-grad</td>\n",
       "      <td>9</td>\n",
       "      <td>Widowed</td>\n",
       "      <td>Exec-managerial</td>\n",
       "      <td>Not-in-family</td>\n",
       "      <td>White</td>\n",
       "      <td>Female</td>\n",
       "      <td>0</td>\n",
       "      <td>4356</td>\n",
       "      <td>18</td>\n",
       "      <td>United-States</td>\n",
       "      <td>0</td>\n",
       "    </tr>\n",
       "    <tr>\n",
       "      <th>3</th>\n",
       "      <td>54</td>\n",
       "      <td>Private</td>\n",
       "      <td>140359</td>\n",
       "      <td>7th-8th</td>\n",
       "      <td>4</td>\n",
       "      <td>Divorced</td>\n",
       "      <td>Machine-op-inspct</td>\n",
       "      <td>Unmarried</td>\n",
       "      <td>White</td>\n",
       "      <td>Female</td>\n",
       "      <td>0</td>\n",
       "      <td>3900</td>\n",
       "      <td>40</td>\n",
       "      <td>United-States</td>\n",
       "      <td>0</td>\n",
       "    </tr>\n",
       "    <tr>\n",
       "      <th>4</th>\n",
       "      <td>41</td>\n",
       "      <td>Private</td>\n",
       "      <td>264663</td>\n",
       "      <td>Some-college</td>\n",
       "      <td>10</td>\n",
       "      <td>Separated</td>\n",
       "      <td>Prof-specialty</td>\n",
       "      <td>Own-child</td>\n",
       "      <td>White</td>\n",
       "      <td>Female</td>\n",
       "      <td>0</td>\n",
       "      <td>3900</td>\n",
       "      <td>40</td>\n",
       "      <td>United-States</td>\n",
       "      <td>0</td>\n",
       "    </tr>\n",
       "    <tr>\n",
       "      <th>5</th>\n",
       "      <td>34</td>\n",
       "      <td>Private</td>\n",
       "      <td>216864</td>\n",
       "      <td>HS-grad</td>\n",
       "      <td>9</td>\n",
       "      <td>Divorced</td>\n",
       "      <td>Other-service</td>\n",
       "      <td>Unmarried</td>\n",
       "      <td>White</td>\n",
       "      <td>Female</td>\n",
       "      <td>0</td>\n",
       "      <td>3770</td>\n",
       "      <td>45</td>\n",
       "      <td>United-States</td>\n",
       "      <td>0</td>\n",
       "    </tr>\n",
       "    <tr>\n",
       "      <th>6</th>\n",
       "      <td>38</td>\n",
       "      <td>Private</td>\n",
       "      <td>150601</td>\n",
       "      <td>10th</td>\n",
       "      <td>6</td>\n",
       "      <td>Separated</td>\n",
       "      <td>Adm-clerical</td>\n",
       "      <td>Unmarried</td>\n",
       "      <td>White</td>\n",
       "      <td>Male</td>\n",
       "      <td>0</td>\n",
       "      <td>3770</td>\n",
       "      <td>40</td>\n",
       "      <td>United-States</td>\n",
       "      <td>0</td>\n",
       "    </tr>\n",
       "  </tbody>\n",
       "</table>\n",
       "</div>"
      ],
      "text/plain": [
       "   age workclass  fnlwgt     education  education.num marital.status  \\\n",
       "1   82   Private  132870       HS-grad              9        Widowed   \n",
       "3   54   Private  140359       7th-8th              4       Divorced   \n",
       "4   41   Private  264663  Some-college             10      Separated   \n",
       "5   34   Private  216864       HS-grad              9       Divorced   \n",
       "6   38   Private  150601          10th              6      Separated   \n",
       "\n",
       "          occupation   relationship   race     sex  capital.gain  \\\n",
       "1    Exec-managerial  Not-in-family  White  Female             0   \n",
       "3  Machine-op-inspct      Unmarried  White  Female             0   \n",
       "4     Prof-specialty      Own-child  White  Female             0   \n",
       "5      Other-service      Unmarried  White  Female             0   \n",
       "6       Adm-clerical      Unmarried  White    Male             0   \n",
       "\n",
       "   capital.loss  hours.per.week native.country  income  \n",
       "1          4356              18  United-States       0  \n",
       "3          3900              40  United-States       0  \n",
       "4          3900              40  United-States       0  \n",
       "5          3770              45  United-States       0  \n",
       "6          3770              40  United-States       0  "
      ]
     },
     "execution_count": 6,
     "metadata": {},
     "output_type": "execute_result"
    }
   ],
   "source": [
    "adult.dropna(inplace = True)\n",
    "print(adult.shape)\n",
    "adult.head()"
   ]
  },
  {
   "cell_type": "code",
   "execution_count": 7,
   "metadata": {},
   "outputs": [],
   "source": [
    "X = adult.drop(['income'], axis = 1)\n",
    "y = adult['income']"
   ]
  },
  {
   "cell_type": "code",
   "execution_count": 8,
   "metadata": {},
   "outputs": [],
   "source": [
    "def findBest(model, params, X_train, y_train):\n",
    "    opt_model = GridSearchCV(model, params, scoring = ['accuracy', 'f1'], refit = 'accuracy', verbose = 1, n_jobs = -1)\n",
    "    opt_model.fit(X_train, y_train)\n",
    "    \n",
    "    print(opt_model.best_score_)\n",
    "    print(opt_model.best_params_)\n",
    "    return opt_model"
   ]
  },
  {
   "cell_type": "code",
   "execution_count": 9,
   "metadata": {},
   "outputs": [],
   "source": [
    "def prepData(X, y, partition, categorical):\n",
    "    X_train, X_test, y_train, y_test = train_test_split(X, y, test_size = partition)\n",
    "    \n",
    "    for feature in categorical:\n",
    "        label_encoder = LabelEncoder()\n",
    "        label_encoder.fit(X[feature])\n",
    "        X_train[feature] = label_encoder.transform(X_train[feature])\n",
    "        X_test[feature] = label_encoder.transform(X_test[feature])\n",
    "\n",
    "    scaler = StandardScaler()\n",
    "    X_train = pd.DataFrame(scaler.fit_transform(X_train), columns = X.columns)\n",
    "    X_test = pd.DataFrame(scaler.transform(X_test), columns = X.columns)\n",
    "    \n",
    "    return X_train, X_test, y_train, y_test"
   ]
  },
  {
   "cell_type": "code",
   "execution_count": 10,
   "metadata": {},
   "outputs": [],
   "source": [
    "def evalModels(mp_dict, trials, partitions, categorical, X, y):\n",
    "    results = {}\n",
    "    trainEval = {}\n",
    "    testEval = {}\n",
    "    detailRes = {}\n",
    "    for p in partitions:\n",
    "        results[str(p)] = {}\n",
    "        trainEval[str(p)] = {}\n",
    "        testEval[str(p)] = {}\n",
    "        detailRes[str(p)] = {}\n",
    "        print(\"Evaluating partition for: test_size = \" + str(p))\n",
    "        X_train, X_test, y_train, y_test = prepData(X, y, p, categorical)\n",
    "\n",
    "        for model in mp_dict:\n",
    "            print(\"Starting new Model: \" + str(model))\n",
    "            \n",
    "            acc_list = []\n",
    "            acc_dict = {}\n",
    "            for iteration in range(0, trials):\n",
    "                print(\"Starting iteration \" + str(iteration + 1))\n",
    "                opt_model = findBest(model, mp_dict[model], X_train, y_train)\n",
    "                detailRes[str(p)][type(opt_model.best_estimator_).__name__] = {}\n",
    "                detailRes[str(p)][type(opt_model.best_estimator_).__name__][str(iteration)] = opt_model\n",
    "                acc_dict[str(opt_model.best_score_)] = opt_model\n",
    "                acc_list.append(opt_model.best_score_)\n",
    "                    \n",
    "            med_acc = np.median(acc_list)\n",
    "            best_model = acc_dict[str(med_acc)]\n",
    "            \n",
    "            train_acc, train_f1 = testModel(X_train, y_train, best_model)\n",
    "            trainEval[str(p)][type(best_model.best_estimator_).__name__] = {\"accuracy\": train_acc, \"f1\": train_f1}\n",
    "            \n",
    "            test_acc, test_f1 = testModel(X_test, y_test, best_model)\n",
    "            testEval[str(p)][type(best_model.best_estimator_).__name__] = {\"accuracy\": test_acc, \"f1\": test_f1}\n",
    "            \n",
    "            results[str(p)][type(best_model.best_estimator_).__name__] = best_model\n",
    "            print(\"Best acc score for \" + str(model))\n",
    "            print(best_model.best_score_)\n",
    "            \n",
    "    return results, trainEval, testEval"
   ]
  },
  {
   "cell_type": "code",
   "execution_count": 11,
   "metadata": {},
   "outputs": [],
   "source": [
    "def testModel(X, y, classifier):\n",
    "    Y_pred = classifier.predict(X)\n",
    "    acc = accuracy_score(y, Y_pred)\n",
    "    f1 = f1_score(y, Y_pred)\n",
    "    return acc, f1"
   ]
  },
  {
   "cell_type": "code",
   "execution_count": 12,
   "metadata": {
    "scrolled": false
   },
   "outputs": [],
   "source": [
    "def resultSummary(result):\n",
    "    sl = [\"params\", \"mean_test_accuracy\", \"std_test_accuracy\", \"mean_test_f1\", \"std_test_f1\"]\n",
    "    resultSum = {}\n",
    "    for p in result:\n",
    "        resultSum[p] = {}\n",
    "        for modelName in result[p]:\n",
    "            resultSum[p][modelName] = {key: result[p][modelName].cv_results_[key][result[p][modelName].best_index_] for key in sl}\n",
    "    return resultSum"
   ]
  },
  {
   "cell_type": "code",
   "execution_count": 13,
   "metadata": {
    "scrolled": true
   },
   "outputs": [
    {
     "name": "stdout",
     "output_type": "stream",
     "text": [
      "Evaluating partition for: test_size = 0.2\n",
      "Starting new Model: LogisticRegression(C=1.0, class_weight=None, dual=False, fit_intercept=True,\n",
      "                   intercept_scaling=1, l1_ratio=None, max_iter=100,\n",
      "                   multi_class='auto', n_jobs=None, penalty='l2',\n",
      "                   random_state=None, solver='lbfgs', tol=0.0001, verbose=0,\n",
      "                   warm_start=False)\n",
      "Starting iteration 1\n",
      "Fitting 5 folds for each of 12 candidates, totalling 60 fits\n"
     ]
    },
    {
     "name": "stderr",
     "output_type": "stream",
     "text": [
      "/home/eric/anaconda3/lib/python3.7/site-packages/ipykernel_launcher.py:7: SettingWithCopyWarning: \n",
      "A value is trying to be set on a copy of a slice from a DataFrame.\n",
      "Try using .loc[row_indexer,col_indexer] = value instead\n",
      "\n",
      "See the caveats in the documentation: http://pandas.pydata.org/pandas-docs/stable/user_guide/indexing.html#returning-a-view-versus-a-copy\n",
      "  import sys\n",
      "/home/eric/anaconda3/lib/python3.7/site-packages/ipykernel_launcher.py:8: SettingWithCopyWarning: \n",
      "A value is trying to be set on a copy of a slice from a DataFrame.\n",
      "Try using .loc[row_indexer,col_indexer] = value instead\n",
      "\n",
      "See the caveats in the documentation: http://pandas.pydata.org/pandas-docs/stable/user_guide/indexing.html#returning-a-view-versus-a-copy\n",
      "  \n",
      "[Parallel(n_jobs=-1)]: Using backend LokyBackend with 8 concurrent workers.\n",
      "[Parallel(n_jobs=-1)]: Done  34 tasks      | elapsed:    2.6s\n",
      "[Parallel(n_jobs=-1)]: Done  60 out of  60 | elapsed:    3.2s finished\n",
      "[Parallel(n_jobs=-1)]: Using backend LokyBackend with 8 concurrent workers.\n"
     ]
    },
    {
     "name": "stdout",
     "output_type": "stream",
     "text": [
      "0.8222055146024664\n",
      "{'C': 0.1}\n",
      "Starting iteration 2\n",
      "Fitting 5 folds for each of 12 candidates, totalling 60 fits\n"
     ]
    },
    {
     "name": "stderr",
     "output_type": "stream",
     "text": [
      "[Parallel(n_jobs=-1)]: Done  45 out of  60 | elapsed:    1.1s remaining:    0.4s\n",
      "[Parallel(n_jobs=-1)]: Done  60 out of  60 | elapsed:    1.4s finished\n",
      "[Parallel(n_jobs=-1)]: Using backend LokyBackend with 8 concurrent workers.\n"
     ]
    },
    {
     "name": "stdout",
     "output_type": "stream",
     "text": [
      "0.8222055146024664\n",
      "{'C': 0.1}\n",
      "Starting iteration 3\n",
      "Fitting 5 folds for each of 12 candidates, totalling 60 fits\n"
     ]
    },
    {
     "name": "stderr",
     "output_type": "stream",
     "text": [
      "[Parallel(n_jobs=-1)]: Done  60 out of  60 | elapsed:    1.2s finished\n",
      "[Parallel(n_jobs=-1)]: Using backend LokyBackend with 8 concurrent workers.\n"
     ]
    },
    {
     "name": "stdout",
     "output_type": "stream",
     "text": [
      "0.8222055146024664\n",
      "{'C': 0.1}\n",
      "Best acc score for LogisticRegression(C=1.0, class_weight=None, dual=False, fit_intercept=True,\n",
      "                   intercept_scaling=1, l1_ratio=None, max_iter=100,\n",
      "                   multi_class='auto', n_jobs=None, penalty='l2',\n",
      "                   random_state=None, solver='lbfgs', tol=0.0001, verbose=0,\n",
      "                   warm_start=False)\n",
      "0.8222055146024664\n",
      "Starting new Model: LinearSVC(C=1.0, class_weight=None, dual=True, fit_intercept=True,\n",
      "          intercept_scaling=1, loss='squared_hinge', max_iter=1000,\n",
      "          multi_class='ovr', penalty='l2', random_state=None, tol=0.0001,\n",
      "          verbose=0)\n",
      "Starting iteration 1\n",
      "Fitting 5 folds for each of 8 candidates, totalling 40 fits\n"
     ]
    },
    {
     "name": "stderr",
     "output_type": "stream",
     "text": [
      "[Parallel(n_jobs=-1)]: Done  25 out of  40 | elapsed:   12.4s remaining:    7.4s\n",
      "[Parallel(n_jobs=-1)]: Done  40 out of  40 | elapsed:   25.3s finished\n",
      "/home/eric/anaconda3/lib/python3.7/site-packages/sklearn/svm/_base.py:947: ConvergenceWarning: Liblinear failed to converge, increase the number of iterations.\n",
      "  \"the number of iterations.\", ConvergenceWarning)\n",
      "[Parallel(n_jobs=-1)]: Using backend LokyBackend with 8 concurrent workers.\n"
     ]
    },
    {
     "name": "stdout",
     "output_type": "stream",
     "text": [
      "0.8210865325772103\n",
      "{'C': 1}\n",
      "Starting iteration 2\n",
      "Fitting 5 folds for each of 8 candidates, totalling 40 fits\n"
     ]
    },
    {
     "name": "stderr",
     "output_type": "stream",
     "text": [
      "[Parallel(n_jobs=-1)]: Done  25 out of  40 | elapsed:   14.1s remaining:    8.4s\n",
      "[Parallel(n_jobs=-1)]: Done  40 out of  40 | elapsed:   25.6s finished\n",
      "/home/eric/anaconda3/lib/python3.7/site-packages/sklearn/svm/_base.py:947: ConvergenceWarning: Liblinear failed to converge, increase the number of iterations.\n",
      "  \"the number of iterations.\", ConvergenceWarning)\n",
      "[Parallel(n_jobs=-1)]: Using backend LokyBackend with 8 concurrent workers.\n"
     ]
    },
    {
     "name": "stdout",
     "output_type": "stream",
     "text": [
      "0.8210865325772103\n",
      "{'C': 1}\n",
      "Starting iteration 3\n",
      "Fitting 5 folds for each of 8 candidates, totalling 40 fits\n"
     ]
    },
    {
     "name": "stderr",
     "output_type": "stream",
     "text": [
      "[Parallel(n_jobs=-1)]: Done  25 out of  40 | elapsed:   11.2s remaining:    6.7s\n",
      "[Parallel(n_jobs=-1)]: Done  40 out of  40 | elapsed:   23.0s finished\n",
      "/home/eric/anaconda3/lib/python3.7/site-packages/sklearn/svm/_base.py:947: ConvergenceWarning: Liblinear failed to converge, increase the number of iterations.\n",
      "  \"the number of iterations.\", ConvergenceWarning)\n",
      "[Parallel(n_jobs=-1)]: Using backend LokyBackend with 8 concurrent workers.\n"
     ]
    },
    {
     "name": "stdout",
     "output_type": "stream",
     "text": [
      "0.8210450818000081\n",
      "{'C': 1}\n",
      "Best acc score for LinearSVC(C=1.0, class_weight=None, dual=True, fit_intercept=True,\n",
      "          intercept_scaling=1, loss='squared_hinge', max_iter=1000,\n",
      "          multi_class='ovr', penalty='l2', random_state=None, tol=0.0001,\n",
      "          verbose=0)\n",
      "0.8210865325772103\n",
      "Starting new Model: KNeighborsClassifier(algorithm='auto', leaf_size=30, metric='minkowski',\n",
      "                     metric_params=None, n_jobs=None, n_neighbors=5, p=2,\n",
      "                     weights='uniform')\n",
      "Starting iteration 1\n",
      "Fitting 5 folds for each of 11 candidates, totalling 55 fits\n"
     ]
    },
    {
     "name": "stderr",
     "output_type": "stream",
     "text": [
      "[Parallel(n_jobs=-1)]: Done  34 tasks      | elapsed:   41.4s\n",
      "[Parallel(n_jobs=-1)]: Done  55 out of  55 | elapsed:  1.3min finished\n"
     ]
    },
    {
     "name": "stdout",
     "output_type": "stream",
     "text": [
      "0.8322763957750441\n",
      "{'n_neighbors': 25}\n",
      "Starting iteration 2\n",
      "Fitting 5 folds for each of 11 candidates, totalling 55 fits\n"
     ]
    },
    {
     "name": "stderr",
     "output_type": "stream",
     "text": [
      "[Parallel(n_jobs=-1)]: Using backend LokyBackend with 8 concurrent workers.\n",
      "[Parallel(n_jobs=-1)]: Done  34 tasks      | elapsed:   49.5s\n",
      "[Parallel(n_jobs=-1)]: Done  55 out of  55 | elapsed:  1.4min finished\n"
     ]
    },
    {
     "name": "stdout",
     "output_type": "stream",
     "text": [
      "0.8322763957750441\n",
      "{'n_neighbors': 25}\n",
      "Starting iteration 3\n",
      "Fitting 5 folds for each of 11 candidates, totalling 55 fits\n"
     ]
    },
    {
     "name": "stderr",
     "output_type": "stream",
     "text": [
      "[Parallel(n_jobs=-1)]: Using backend LokyBackend with 8 concurrent workers.\n",
      "[Parallel(n_jobs=-1)]: Done  34 tasks      | elapsed:   51.1s\n",
      "[Parallel(n_jobs=-1)]: Done  55 out of  55 | elapsed:  1.4min finished\n"
     ]
    },
    {
     "name": "stdout",
     "output_type": "stream",
     "text": [
      "0.8322763957750441\n",
      "{'n_neighbors': 25}\n",
      "Best acc score for KNeighborsClassifier(algorithm='auto', leaf_size=30, metric='minkowski',\n",
      "                     metric_params=None, n_jobs=None, n_neighbors=5, p=2,\n",
      "                     weights='uniform')\n",
      "0.8322763957750441\n",
      "Starting new Model: RandomForestClassifier(bootstrap=True, ccp_alpha=0.0, class_weight=None,\n",
      "                       criterion='gini', max_depth=None, max_features='auto',\n",
      "                       max_leaf_nodes=None, max_samples=None,\n",
      "                       min_impurity_decrease=0.0, min_impurity_split=None,\n",
      "                       min_samples_leaf=1, min_samples_split=2,\n",
      "                       min_weight_fraction_leaf=0.0, n_estimators=100,\n",
      "                       n_jobs=None, oob_score=False, random_state=None,\n",
      "                       verbose=0, warm_start=False)\n",
      "Starting iteration 1\n",
      "Fitting 5 folds for each of 8 candidates, totalling 40 fits\n"
     ]
    },
    {
     "name": "stderr",
     "output_type": "stream",
     "text": [
      "[Parallel(n_jobs=-1)]: Using backend LokyBackend with 8 concurrent workers.\n",
      "/home/eric/anaconda3/lib/python3.7/site-packages/joblib/externals/loky/process_executor.py:706: UserWarning: A worker stopped while some jobs were given to the executor. This can be caused by a too short worker timeout or by a memory leak.\n",
      "  \"timeout or by a memory leak.\", UserWarning\n",
      "[Parallel(n_jobs=-1)]: Done  40 out of  40 | elapsed:  5.7min finished\n"
     ]
    },
    {
     "name": "stdout",
     "output_type": "stream",
     "text": [
      "0.8559825899864508\n",
      "{'max_features': 2, 'n_estimators': 1024}\n",
      "Starting iteration 2\n",
      "Fitting 5 folds for each of 8 candidates, totalling 40 fits\n"
     ]
    },
    {
     "name": "stderr",
     "output_type": "stream",
     "text": [
      "[Parallel(n_jobs=-1)]: Using backend LokyBackend with 8 concurrent workers.\n",
      "/home/eric/anaconda3/lib/python3.7/site-packages/joblib/externals/loky/process_executor.py:706: UserWarning: A worker stopped while some jobs were given to the executor. This can be caused by a too short worker timeout or by a memory leak.\n",
      "  \"timeout or by a memory leak.\", UserWarning\n",
      "[Parallel(n_jobs=-1)]: Done  40 out of  40 | elapsed:  5.6min finished\n"
     ]
    },
    {
     "name": "stdout",
     "output_type": "stream",
     "text": [
      "0.8552779611302336\n",
      "{'max_features': 1, 'n_estimators': 1024}\n",
      "Starting iteration 3\n",
      "Fitting 5 folds for each of 8 candidates, totalling 40 fits\n"
     ]
    },
    {
     "name": "stderr",
     "output_type": "stream",
     "text": [
      "[Parallel(n_jobs=-1)]: Using backend LokyBackend with 8 concurrent workers.\n",
      "[Parallel(n_jobs=-1)]: Done  40 out of  40 | elapsed:  5.5min finished\n"
     ]
    },
    {
     "name": "stdout",
     "output_type": "stream",
     "text": [
      "0.8563969689226534\n",
      "{'max_features': 2, 'n_estimators': 1024}\n",
      "Best acc score for RandomForestClassifier(bootstrap=True, ccp_alpha=0.0, class_weight=None,\n",
      "                       criterion='gini', max_depth=None, max_features='auto',\n",
      "                       max_leaf_nodes=None, max_samples=None,\n",
      "                       min_impurity_decrease=0.0, min_impurity_split=None,\n",
      "                       min_samples_leaf=1, min_samples_split=2,\n",
      "                       min_weight_fraction_leaf=0.0, n_estimators=100,\n",
      "                       n_jobs=None, oob_score=False, random_state=None,\n",
      "                       verbose=0, warm_start=False)\n",
      "0.8559825899864508\n",
      "Starting new Model: GradientBoostingClassifier(ccp_alpha=0.0, criterion='friedman_mse', init=None,\n",
      "                           learning_rate=0.1, loss='deviance', max_depth=3,\n",
      "                           max_features=None, max_leaf_nodes=None,\n",
      "                           min_impurity_decrease=0.0, min_impurity_split=None,\n",
      "                           min_samples_leaf=1, min_samples_split=2,\n",
      "                           min_weight_fraction_leaf=0.0, n_estimators=100,\n",
      "                           n_iter_no_change=None, presort='deprecated',\n",
      "                           random_state=None, subsample=1.0, tol=0.0001,\n",
      "                           validation_fraction=0.1, verbose=0,\n",
      "                           warm_start=False)\n",
      "Starting iteration 1\n",
      "Fitting 5 folds for each of 9 candidates, totalling 45 fits\n"
     ]
    },
    {
     "name": "stderr",
     "output_type": "stream",
     "text": [
      "[Parallel(n_jobs=-1)]: Using backend LokyBackend with 8 concurrent workers.\n",
      "[Parallel(n_jobs=-1)]: Done  45 out of  45 | elapsed:  1.3min finished\n"
     ]
    },
    {
     "name": "stdout",
     "output_type": "stream",
     "text": [
      "0.8701148828989776\n",
      "{'n_estimators': 512}\n",
      "Starting iteration 2\n",
      "Fitting 5 folds for each of 9 candidates, totalling 45 fits\n"
     ]
    },
    {
     "name": "stderr",
     "output_type": "stream",
     "text": [
      "[Parallel(n_jobs=-1)]: Using backend LokyBackend with 8 concurrent workers.\n",
      "[Parallel(n_jobs=-1)]: Done  30 out of  45 | elapsed:    9.8s remaining:    4.9s\n",
      "[Parallel(n_jobs=-1)]: Done  45 out of  45 | elapsed:  1.3min finished\n"
     ]
    },
    {
     "name": "stdout",
     "output_type": "stream",
     "text": [
      "0.8701148828989776\n",
      "{'n_estimators': 512}\n",
      "Starting iteration 3\n",
      "Fitting 5 folds for each of 9 candidates, totalling 45 fits\n"
     ]
    },
    {
     "name": "stderr",
     "output_type": "stream",
     "text": [
      "[Parallel(n_jobs=-1)]: Using backend LokyBackend with 8 concurrent workers.\n",
      "[Parallel(n_jobs=-1)]: Done  30 out of  45 | elapsed:    9.7s remaining:    4.9s\n",
      "[Parallel(n_jobs=-1)]: Done  45 out of  45 | elapsed:  1.3min finished\n"
     ]
    },
    {
     "name": "stdout",
     "output_type": "stream",
     "text": [
      "0.8701148828989776\n",
      "{'n_estimators': 512}\n",
      "Best acc score for GradientBoostingClassifier(ccp_alpha=0.0, criterion='friedman_mse', init=None,\n",
      "                           learning_rate=0.1, loss='deviance', max_depth=3,\n",
      "                           max_features=None, max_leaf_nodes=None,\n",
      "                           min_impurity_decrease=0.0, min_impurity_split=None,\n",
      "                           min_samples_leaf=1, min_samples_split=2,\n",
      "                           min_weight_fraction_leaf=0.0, n_estimators=100,\n",
      "                           n_iter_no_change=None, presort='deprecated',\n",
      "                           random_state=None, subsample=1.0, tol=0.0001,\n",
      "                           validation_fraction=0.1, verbose=0,\n",
      "                           warm_start=False)\n",
      "0.8701148828989776\n",
      "Evaluating partition for: test_size = 0.5\n"
     ]
    },
    {
     "name": "stderr",
     "output_type": "stream",
     "text": [
      "/home/eric/anaconda3/lib/python3.7/site-packages/ipykernel_launcher.py:7: SettingWithCopyWarning: \n",
      "A value is trying to be set on a copy of a slice from a DataFrame.\n",
      "Try using .loc[row_indexer,col_indexer] = value instead\n",
      "\n",
      "See the caveats in the documentation: http://pandas.pydata.org/pandas-docs/stable/user_guide/indexing.html#returning-a-view-versus-a-copy\n",
      "  import sys\n",
      "/home/eric/anaconda3/lib/python3.7/site-packages/ipykernel_launcher.py:8: SettingWithCopyWarning: \n",
      "A value is trying to be set on a copy of a slice from a DataFrame.\n",
      "Try using .loc[row_indexer,col_indexer] = value instead\n",
      "\n",
      "See the caveats in the documentation: http://pandas.pydata.org/pandas-docs/stable/user_guide/indexing.html#returning-a-view-versus-a-copy\n",
      "  \n",
      "[Parallel(n_jobs=-1)]: Using backend LokyBackend with 8 concurrent workers.\n"
     ]
    },
    {
     "name": "stdout",
     "output_type": "stream",
     "text": [
      "Starting new Model: LogisticRegression(C=1.0, class_weight=None, dual=False, fit_intercept=True,\n",
      "                   intercept_scaling=1, l1_ratio=None, max_iter=100,\n",
      "                   multi_class='auto', n_jobs=None, penalty='l2',\n",
      "                   random_state=None, solver='lbfgs', tol=0.0001, verbose=0,\n",
      "                   warm_start=False)\n",
      "Starting iteration 1\n",
      "Fitting 5 folds for each of 12 candidates, totalling 60 fits\n"
     ]
    },
    {
     "name": "stderr",
     "output_type": "stream",
     "text": [
      "/home/eric/anaconda3/lib/python3.7/site-packages/joblib/externals/loky/process_executor.py:706: UserWarning: A worker stopped while some jobs were given to the executor. This can be caused by a too short worker timeout or by a memory leak.\n",
      "  \"timeout or by a memory leak.\", UserWarning\n",
      "[Parallel(n_jobs=-1)]: Done  45 out of  60 | elapsed:    0.9s remaining:    0.3s\n",
      "[Parallel(n_jobs=-1)]: Done  60 out of  60 | elapsed:    1.1s finished\n",
      "[Parallel(n_jobs=-1)]: Using backend LokyBackend with 8 concurrent workers.\n"
     ]
    },
    {
     "name": "stdout",
     "output_type": "stream",
     "text": [
      "0.8228892157526447\n",
      "{'C': 0.1}\n",
      "Starting iteration 2\n",
      "Fitting 5 folds for each of 12 candidates, totalling 60 fits\n"
     ]
    },
    {
     "name": "stderr",
     "output_type": "stream",
     "text": [
      "[Parallel(n_jobs=-1)]: Done  45 out of  60 | elapsed:    0.8s remaining:    0.3s\n",
      "[Parallel(n_jobs=-1)]: Done  60 out of  60 | elapsed:    1.4s finished\n",
      "[Parallel(n_jobs=-1)]: Using backend LokyBackend with 8 concurrent workers.\n"
     ]
    },
    {
     "name": "stdout",
     "output_type": "stream",
     "text": [
      "0.8228892157526447\n",
      "{'C': 0.1}\n",
      "Starting iteration 3\n",
      "Fitting 5 folds for each of 12 candidates, totalling 60 fits\n"
     ]
    },
    {
     "name": "stderr",
     "output_type": "stream",
     "text": [
      "[Parallel(n_jobs=-1)]: Done  60 out of  60 | elapsed:    0.9s finished\n",
      "[Parallel(n_jobs=-1)]: Using backend LokyBackend with 8 concurrent workers.\n"
     ]
    },
    {
     "name": "stdout",
     "output_type": "stream",
     "text": [
      "0.8228892157526447\n",
      "{'C': 0.1}\n",
      "Best acc score for LogisticRegression(C=1.0, class_weight=None, dual=False, fit_intercept=True,\n",
      "                   intercept_scaling=1, l1_ratio=None, max_iter=100,\n",
      "                   multi_class='auto', n_jobs=None, penalty='l2',\n",
      "                   random_state=None, solver='lbfgs', tol=0.0001, verbose=0,\n",
      "                   warm_start=False)\n",
      "0.8228892157526447\n",
      "Starting new Model: LinearSVC(C=1.0, class_weight=None, dual=True, fit_intercept=True,\n",
      "          intercept_scaling=1, loss='squared_hinge', max_iter=1000,\n",
      "          multi_class='ovr', penalty='l2', random_state=None, tol=0.0001,\n",
      "          verbose=0)\n",
      "Starting iteration 1\n",
      "Fitting 5 folds for each of 8 candidates, totalling 40 fits\n"
     ]
    },
    {
     "name": "stderr",
     "output_type": "stream",
     "text": [
      "[Parallel(n_jobs=-1)]: Done  25 out of  40 | elapsed:    7.8s remaining:    4.7s\n",
      "[Parallel(n_jobs=-1)]: Done  40 out of  40 | elapsed:   14.0s finished\n"
     ]
    },
    {
     "name": "stdout",
     "output_type": "stream",
     "text": [
      "0.8201705367198606\n",
      "{'C': 0.1}\n",
      "Starting iteration 2\n",
      "Fitting 5 folds for each of 8 candidates, totalling 40 fits\n"
     ]
    },
    {
     "name": "stderr",
     "output_type": "stream",
     "text": [
      "[Parallel(n_jobs=-1)]: Using backend LokyBackend with 8 concurrent workers.\n",
      "[Parallel(n_jobs=-1)]: Done  25 out of  40 | elapsed:    7.3s remaining:    4.4s\n",
      "[Parallel(n_jobs=-1)]: Done  40 out of  40 | elapsed:   14.9s finished\n",
      "/home/eric/anaconda3/lib/python3.7/site-packages/sklearn/svm/_base.py:947: ConvergenceWarning: Liblinear failed to converge, increase the number of iterations.\n",
      "  \"the number of iterations.\", ConvergenceWarning)\n",
      "[Parallel(n_jobs=-1)]: Using backend LokyBackend with 8 concurrent workers.\n"
     ]
    },
    {
     "name": "stdout",
     "output_type": "stream",
     "text": [
      "0.8211649019833676\n",
      "{'C': 10}\n",
      "Starting iteration 3\n",
      "Fitting 5 folds for each of 8 candidates, totalling 40 fits\n"
     ]
    },
    {
     "name": "stderr",
     "output_type": "stream",
     "text": [
      "[Parallel(n_jobs=-1)]: Done  25 out of  40 | elapsed:    7.5s remaining:    4.5s\n",
      "[Parallel(n_jobs=-1)]: Done  40 out of  40 | elapsed:   13.8s finished\n",
      "/home/eric/anaconda3/lib/python3.7/site-packages/sklearn/svm/_base.py:947: ConvergenceWarning: Liblinear failed to converge, increase the number of iterations.\n",
      "  \"the number of iterations.\", ConvergenceWarning)\n",
      "[Parallel(n_jobs=-1)]: Using backend LokyBackend with 8 concurrent workers.\n"
     ]
    },
    {
     "name": "stdout",
     "output_type": "stream",
     "text": [
      "0.8204359425677131\n",
      "{'C': 10}\n",
      "Best acc score for LinearSVC(C=1.0, class_weight=None, dual=True, fit_intercept=True,\n",
      "          intercept_scaling=1, loss='squared_hinge', max_iter=1000,\n",
      "          multi_class='ovr', penalty='l2', random_state=None, tol=0.0001,\n",
      "          verbose=0)\n",
      "0.8204359425677131\n",
      "Starting new Model: KNeighborsClassifier(algorithm='auto', leaf_size=30, metric='minkowski',\n",
      "                     metric_params=None, n_jobs=None, n_neighbors=5, p=2,\n",
      "                     weights='uniform')\n",
      "Starting iteration 1\n",
      "Fitting 5 folds for each of 11 candidates, totalling 55 fits\n"
     ]
    },
    {
     "name": "stderr",
     "output_type": "stream",
     "text": [
      "[Parallel(n_jobs=-1)]: Done  34 tasks      | elapsed:   22.0s\n",
      "[Parallel(n_jobs=-1)]: Done  55 out of  55 | elapsed:   35.8s finished\n"
     ]
    },
    {
     "name": "stdout",
     "output_type": "stream",
     "text": [
      "0.8313767518983936\n",
      "{'n_neighbors': 25}\n",
      "Starting iteration 2\n",
      "Fitting 5 folds for each of 11 candidates, totalling 55 fits\n"
     ]
    },
    {
     "name": "stderr",
     "output_type": "stream",
     "text": [
      "[Parallel(n_jobs=-1)]: Using backend LokyBackend with 8 concurrent workers.\n",
      "[Parallel(n_jobs=-1)]: Done  34 tasks      | elapsed:   22.9s\n",
      "[Parallel(n_jobs=-1)]: Done  55 out of  55 | elapsed:   36.3s finished\n"
     ]
    },
    {
     "name": "stdout",
     "output_type": "stream",
     "text": [
      "0.8313767518983936\n",
      "{'n_neighbors': 25}\n",
      "Starting iteration 3\n",
      "Fitting 5 folds for each of 11 candidates, totalling 55 fits\n"
     ]
    },
    {
     "name": "stderr",
     "output_type": "stream",
     "text": [
      "[Parallel(n_jobs=-1)]: Using backend LokyBackend with 8 concurrent workers.\n",
      "[Parallel(n_jobs=-1)]: Done  34 tasks      | elapsed:   22.5s\n",
      "[Parallel(n_jobs=-1)]: Done  55 out of  55 | elapsed:   36.5s finished\n"
     ]
    },
    {
     "name": "stdout",
     "output_type": "stream",
     "text": [
      "0.8313767518983936\n",
      "{'n_neighbors': 25}\n",
      "Best acc score for KNeighborsClassifier(algorithm='auto', leaf_size=30, metric='minkowski',\n",
      "                     metric_params=None, n_jobs=None, n_neighbors=5, p=2,\n",
      "                     weights='uniform')\n",
      "0.8313767518983936\n",
      "Starting new Model: RandomForestClassifier(bootstrap=True, ccp_alpha=0.0, class_weight=None,\n",
      "                       criterion='gini', max_depth=None, max_features='auto',\n",
      "                       max_leaf_nodes=None, max_samples=None,\n",
      "                       min_impurity_decrease=0.0, min_impurity_split=None,\n",
      "                       min_samples_leaf=1, min_samples_split=2,\n",
      "                       min_weight_fraction_leaf=0.0, n_estimators=100,\n",
      "                       n_jobs=None, oob_score=False, random_state=None,\n",
      "                       verbose=0, warm_start=False)\n",
      "Starting iteration 1\n",
      "Fitting 5 folds for each of 8 candidates, totalling 40 fits\n"
     ]
    },
    {
     "name": "stderr",
     "output_type": "stream",
     "text": [
      "[Parallel(n_jobs=-1)]: Using backend LokyBackend with 8 concurrent workers.\n",
      "/home/eric/anaconda3/lib/python3.7/site-packages/joblib/externals/loky/process_executor.py:706: UserWarning: A worker stopped while some jobs were given to the executor. This can be caused by a too short worker timeout or by a memory leak.\n",
      "  \"timeout or by a memory leak.\", UserWarning\n",
      "[Parallel(n_jobs=-1)]: Done  40 out of  40 | elapsed:  3.3min finished\n"
     ]
    },
    {
     "name": "stdout",
     "output_type": "stream",
     "text": [
      "0.8559108245143128\n",
      "{'max_features': 1, 'n_estimators': 1024}\n",
      "Starting iteration 2\n",
      "Fitting 5 folds for each of 8 candidates, totalling 40 fits\n"
     ]
    },
    {
     "name": "stderr",
     "output_type": "stream",
     "text": [
      "[Parallel(n_jobs=-1)]: Using backend LokyBackend with 8 concurrent workers.\n",
      "/home/eric/anaconda3/lib/python3.7/site-packages/joblib/externals/loky/process_executor.py:706: UserWarning: A worker stopped while some jobs were given to the executor. This can be caused by a too short worker timeout or by a memory leak.\n",
      "  \"timeout or by a memory leak.\", UserWarning\n",
      "[Parallel(n_jobs=-1)]: Done  40 out of  40 | elapsed:  3.3min finished\n"
     ]
    },
    {
     "name": "stdout",
     "output_type": "stream",
     "text": [
      "0.8561098514254766\n",
      "{'max_features': 1, 'n_estimators': 1024}\n",
      "Starting iteration 3\n",
      "Fitting 5 folds for each of 8 candidates, totalling 40 fits\n"
     ]
    },
    {
     "name": "stderr",
     "output_type": "stream",
     "text": [
      "[Parallel(n_jobs=-1)]: Using backend LokyBackend with 8 concurrent workers.\n",
      "/home/eric/anaconda3/lib/python3.7/site-packages/joblib/externals/loky/process_executor.py:706: UserWarning: A worker stopped while some jobs were given to the executor. This can be caused by a too short worker timeout or by a memory leak.\n",
      "  \"timeout or by a memory leak.\", UserWarning\n",
      "[Parallel(n_jobs=-1)]: Done  40 out of  40 | elapsed:  3.3min finished\n"
     ]
    },
    {
     "name": "stdout",
     "output_type": "stream",
     "text": [
      "0.8556456164844836\n",
      "{'max_features': 2, 'n_estimators': 1024}\n",
      "Best acc score for RandomForestClassifier(bootstrap=True, ccp_alpha=0.0, class_weight=None,\n",
      "                       criterion='gini', max_depth=None, max_features='auto',\n",
      "                       max_leaf_nodes=None, max_samples=None,\n",
      "                       min_impurity_decrease=0.0, min_impurity_split=None,\n",
      "                       min_samples_leaf=1, min_samples_split=2,\n",
      "                       min_weight_fraction_leaf=0.0, n_estimators=100,\n",
      "                       n_jobs=None, oob_score=False, random_state=None,\n",
      "                       verbose=0, warm_start=False)\n",
      "0.8559108245143128\n",
      "Starting new Model: GradientBoostingClassifier(ccp_alpha=0.0, criterion='friedman_mse', init=None,\n",
      "                           learning_rate=0.1, loss='deviance', max_depth=3,\n",
      "                           max_features=None, max_leaf_nodes=None,\n",
      "                           min_impurity_decrease=0.0, min_impurity_split=None,\n",
      "                           min_samples_leaf=1, min_samples_split=2,\n",
      "                           min_weight_fraction_leaf=0.0, n_estimators=100,\n",
      "                           n_iter_no_change=None, presort='deprecated',\n",
      "                           random_state=None, subsample=1.0, tol=0.0001,\n",
      "                           validation_fraction=0.1, verbose=0,\n",
      "                           warm_start=False)\n",
      "Starting iteration 1\n",
      "Fitting 5 folds for each of 9 candidates, totalling 45 fits\n"
     ]
    },
    {
     "name": "stderr",
     "output_type": "stream",
     "text": [
      "[Parallel(n_jobs=-1)]: Using backend LokyBackend with 8 concurrent workers.\n",
      "[Parallel(n_jobs=-1)]: Done  30 out of  45 | elapsed:    6.2s remaining:    3.1s\n",
      "[Parallel(n_jobs=-1)]: Done  45 out of  45 | elapsed:   49.7s finished\n"
     ]
    },
    {
     "name": "stdout",
     "output_type": "stream",
     "text": [
      "0.8689737596590146\n",
      "{'n_estimators': 512}\n",
      "Starting iteration 2\n",
      "Fitting 5 folds for each of 9 candidates, totalling 45 fits\n"
     ]
    },
    {
     "name": "stderr",
     "output_type": "stream",
     "text": [
      "[Parallel(n_jobs=-1)]: Using backend LokyBackend with 8 concurrent workers.\n",
      "[Parallel(n_jobs=-1)]: Done  30 out of  45 | elapsed:    5.4s remaining:    2.7s\n",
      "[Parallel(n_jobs=-1)]: Done  45 out of  45 | elapsed:   48.2s finished\n"
     ]
    },
    {
     "name": "stdout",
     "output_type": "stream",
     "text": [
      "0.869172632711716\n",
      "{'n_estimators': 512}\n",
      "Starting iteration 3\n",
      "Fitting 5 folds for each of 9 candidates, totalling 45 fits\n"
     ]
    },
    {
     "name": "stderr",
     "output_type": "stream",
     "text": [
      "[Parallel(n_jobs=-1)]: Using backend LokyBackend with 8 concurrent workers.\n",
      "[Parallel(n_jobs=-1)]: Done  30 out of  45 | elapsed:    6.1s remaining:    3.1s\n",
      "[Parallel(n_jobs=-1)]: Done  45 out of  45 | elapsed:   48.6s finished\n"
     ]
    },
    {
     "name": "stdout",
     "output_type": "stream",
     "text": [
      "0.8687748206669721\n",
      "{'n_estimators': 512}\n",
      "Best acc score for GradientBoostingClassifier(ccp_alpha=0.0, criterion='friedman_mse', init=None,\n",
      "                           learning_rate=0.1, loss='deviance', max_depth=3,\n",
      "                           max_features=None, max_leaf_nodes=None,\n",
      "                           min_impurity_decrease=0.0, min_impurity_split=None,\n",
      "                           min_samples_leaf=1, min_samples_split=2,\n",
      "                           min_weight_fraction_leaf=0.0, n_estimators=100,\n",
      "                           n_iter_no_change=None, presort='deprecated',\n",
      "                           random_state=None, subsample=1.0, tol=0.0001,\n",
      "                           validation_fraction=0.1, verbose=0,\n",
      "                           warm_start=False)\n",
      "0.8689737596590146\n",
      "Evaluating partition for: test_size = 0.8\n"
     ]
    },
    {
     "name": "stderr",
     "output_type": "stream",
     "text": [
      "/home/eric/anaconda3/lib/python3.7/site-packages/ipykernel_launcher.py:7: SettingWithCopyWarning: \n",
      "A value is trying to be set on a copy of a slice from a DataFrame.\n",
      "Try using .loc[row_indexer,col_indexer] = value instead\n",
      "\n",
      "See the caveats in the documentation: http://pandas.pydata.org/pandas-docs/stable/user_guide/indexing.html#returning-a-view-versus-a-copy\n",
      "  import sys\n",
      "/home/eric/anaconda3/lib/python3.7/site-packages/ipykernel_launcher.py:8: SettingWithCopyWarning: \n",
      "A value is trying to be set on a copy of a slice from a DataFrame.\n",
      "Try using .loc[row_indexer,col_indexer] = value instead\n",
      "\n",
      "See the caveats in the documentation: http://pandas.pydata.org/pandas-docs/stable/user_guide/indexing.html#returning-a-view-versus-a-copy\n",
      "  \n",
      "[Parallel(n_jobs=-1)]: Using backend LokyBackend with 8 concurrent workers.\n"
     ]
    },
    {
     "name": "stdout",
     "output_type": "stream",
     "text": [
      "Starting new Model: LogisticRegression(C=1.0, class_weight=None, dual=False, fit_intercept=True,\n",
      "                   intercept_scaling=1, l1_ratio=None, max_iter=100,\n",
      "                   multi_class='auto', n_jobs=None, penalty='l2',\n",
      "                   random_state=None, solver='lbfgs', tol=0.0001, verbose=0,\n",
      "                   warm_start=False)\n",
      "Starting iteration 1\n",
      "Fitting 5 folds for each of 12 candidates, totalling 60 fits\n"
     ]
    },
    {
     "name": "stderr",
     "output_type": "stream",
     "text": [
      "[Parallel(n_jobs=-1)]: Done  45 out of  60 | elapsed:    0.4s remaining:    0.1s\n",
      "[Parallel(n_jobs=-1)]: Done  60 out of  60 | elapsed:    0.5s finished\n",
      "[Parallel(n_jobs=-1)]: Using backend LokyBackend with 8 concurrent workers.\n"
     ]
    },
    {
     "name": "stdout",
     "output_type": "stream",
     "text": [
      "0.8227804638777941\n",
      "{'C': 0.1}\n",
      "Starting iteration 2\n",
      "Fitting 5 folds for each of 12 candidates, totalling 60 fits\n"
     ]
    },
    {
     "name": "stderr",
     "output_type": "stream",
     "text": [
      "[Parallel(n_jobs=-1)]: Done  60 out of  60 | elapsed:    0.6s finished\n",
      "[Parallel(n_jobs=-1)]: Using backend LokyBackend with 8 concurrent workers.\n"
     ]
    },
    {
     "name": "stdout",
     "output_type": "stream",
     "text": [
      "0.8227804638777941\n",
      "{'C': 0.1}\n",
      "Starting iteration 3\n",
      "Fitting 5 folds for each of 12 candidates, totalling 60 fits\n"
     ]
    },
    {
     "name": "stderr",
     "output_type": "stream",
     "text": [
      "[Parallel(n_jobs=-1)]: Done  45 out of  60 | elapsed:    0.5s remaining:    0.2s\n",
      "[Parallel(n_jobs=-1)]: Done  60 out of  60 | elapsed:    0.6s finished\n",
      "[Parallel(n_jobs=-1)]: Using backend LokyBackend with 8 concurrent workers.\n"
     ]
    },
    {
     "name": "stdout",
     "output_type": "stream",
     "text": [
      "0.8227804638777941\n",
      "{'C': 0.1}\n",
      "Best acc score for LogisticRegression(C=1.0, class_weight=None, dual=False, fit_intercept=True,\n",
      "                   intercept_scaling=1, l1_ratio=None, max_iter=100,\n",
      "                   multi_class='auto', n_jobs=None, penalty='l2',\n",
      "                   random_state=None, solver='lbfgs', tol=0.0001, verbose=0,\n",
      "                   warm_start=False)\n",
      "0.8227804638777941\n",
      "Starting new Model: LinearSVC(C=1.0, class_weight=None, dual=True, fit_intercept=True,\n",
      "          intercept_scaling=1, loss='squared_hinge', max_iter=1000,\n",
      "          multi_class='ovr', penalty='l2', random_state=None, tol=0.0001,\n",
      "          verbose=0)\n",
      "Starting iteration 1\n",
      "Fitting 5 folds for each of 8 candidates, totalling 40 fits\n"
     ]
    },
    {
     "name": "stderr",
     "output_type": "stream",
     "text": [
      "[Parallel(n_jobs=-1)]: Done  40 out of  40 | elapsed:    3.7s finished\n",
      "[Parallel(n_jobs=-1)]: Using backend LokyBackend with 8 concurrent workers.\n"
     ]
    },
    {
     "name": "stdout",
     "output_type": "stream",
     "text": [
      "0.8224498880906157\n",
      "{'C': 0.01}\n",
      "Starting iteration 2\n",
      "Fitting 5 folds for each of 8 candidates, totalling 40 fits\n"
     ]
    },
    {
     "name": "stderr",
     "output_type": "stream",
     "text": [
      "[Parallel(n_jobs=-1)]: Done  40 out of  40 | elapsed:    3.8s finished\n",
      "[Parallel(n_jobs=-1)]: Using backend LokyBackend with 8 concurrent workers.\n"
     ]
    },
    {
     "name": "stdout",
     "output_type": "stream",
     "text": [
      "0.8224498880906157\n",
      "{'C': 0.01}\n",
      "Starting iteration 3\n",
      "Fitting 5 folds for each of 8 candidates, totalling 40 fits\n"
     ]
    },
    {
     "name": "stderr",
     "output_type": "stream",
     "text": [
      "[Parallel(n_jobs=-1)]: Done  40 out of  40 | elapsed:    3.8s finished\n",
      "[Parallel(n_jobs=-1)]: Using backend LokyBackend with 8 concurrent workers.\n"
     ]
    },
    {
     "name": "stdout",
     "output_type": "stream",
     "text": [
      "0.8224498880906157\n",
      "{'C': 0.01}\n",
      "Best acc score for LinearSVC(C=1.0, class_weight=None, dual=True, fit_intercept=True,\n",
      "          intercept_scaling=1, loss='squared_hinge', max_iter=1000,\n",
      "          multi_class='ovr', penalty='l2', random_state=None, tol=0.0001,\n",
      "          verbose=0)\n",
      "0.8224498880906157\n",
      "Starting new Model: KNeighborsClassifier(algorithm='auto', leaf_size=30, metric='minkowski',\n",
      "                     metric_params=None, n_jobs=None, n_neighbors=5, p=2,\n",
      "                     weights='uniform')\n",
      "Starting iteration 1\n",
      "Fitting 5 folds for each of 11 candidates, totalling 55 fits\n"
     ]
    },
    {
     "name": "stderr",
     "output_type": "stream",
     "text": [
      "[Parallel(n_jobs=-1)]: Done  34 tasks      | elapsed:    2.9s\n",
      "[Parallel(n_jobs=-1)]: Done  55 out of  55 | elapsed:    5.3s finished\n",
      "[Parallel(n_jobs=-1)]: Using backend LokyBackend with 8 concurrent workers.\n"
     ]
    },
    {
     "name": "stdout",
     "output_type": "stream",
     "text": [
      "0.8183049128837998\n",
      "{'n_neighbors': 15}\n",
      "Starting iteration 2\n",
      "Fitting 5 folds for each of 11 candidates, totalling 55 fits\n"
     ]
    },
    {
     "name": "stderr",
     "output_type": "stream",
     "text": [
      "[Parallel(n_jobs=-1)]: Done  34 tasks      | elapsed:    2.9s\n",
      "[Parallel(n_jobs=-1)]: Done  55 out of  55 | elapsed:    5.4s finished\n",
      "[Parallel(n_jobs=-1)]: Using backend LokyBackend with 8 concurrent workers.\n"
     ]
    },
    {
     "name": "stdout",
     "output_type": "stream",
     "text": [
      "0.8183049128837998\n",
      "{'n_neighbors': 15}\n",
      "Starting iteration 3\n",
      "Fitting 5 folds for each of 11 candidates, totalling 55 fits\n"
     ]
    },
    {
     "name": "stderr",
     "output_type": "stream",
     "text": [
      "[Parallel(n_jobs=-1)]: Done  34 tasks      | elapsed:    3.0s\n",
      "[Parallel(n_jobs=-1)]: Done  55 out of  55 | elapsed:    5.4s finished\n"
     ]
    },
    {
     "name": "stdout",
     "output_type": "stream",
     "text": [
      "0.8183049128837998\n",
      "{'n_neighbors': 15}\n",
      "Best acc score for KNeighborsClassifier(algorithm='auto', leaf_size=30, metric='minkowski',\n",
      "                     metric_params=None, n_jobs=None, n_neighbors=5, p=2,\n",
      "                     weights='uniform')\n",
      "0.8183049128837998\n",
      "Starting new Model: RandomForestClassifier(bootstrap=True, ccp_alpha=0.0, class_weight=None,\n",
      "                       criterion='gini', max_depth=None, max_features='auto',\n",
      "                       max_leaf_nodes=None, max_samples=None,\n",
      "                       min_impurity_decrease=0.0, min_impurity_split=None,\n",
      "                       min_samples_leaf=1, min_samples_split=2,\n",
      "                       min_weight_fraction_leaf=0.0, n_estimators=100,\n",
      "                       n_jobs=None, oob_score=False, random_state=None,\n",
      "                       verbose=0, warm_start=False)\n",
      "Starting iteration 1\n",
      "Fitting 5 folds for each of 8 candidates, totalling 40 fits\n"
     ]
    },
    {
     "name": "stderr",
     "output_type": "stream",
     "text": [
      "[Parallel(n_jobs=-1)]: Using backend LokyBackend with 8 concurrent workers.\n",
      "[Parallel(n_jobs=-1)]: Done  40 out of  40 | elapsed:  1.3min finished\n"
     ]
    },
    {
     "name": "stdout",
     "output_type": "stream",
     "text": [
      "0.8499676431430256\n",
      "{'max_features': 4, 'n_estimators': 1024}\n",
      "Starting iteration 2\n",
      "Fitting 5 folds for each of 8 candidates, totalling 40 fits\n"
     ]
    },
    {
     "name": "stderr",
     "output_type": "stream",
     "text": [
      "[Parallel(n_jobs=-1)]: Using backend LokyBackend with 8 concurrent workers.\n",
      "[Parallel(n_jobs=-1)]: Done  40 out of  40 | elapsed:  1.3min finished\n"
     ]
    },
    {
     "name": "stdout",
     "output_type": "stream",
     "text": [
      "0.8488066433917132\n",
      "{'max_features': 2, 'n_estimators': 1024}\n",
      "Starting iteration 3\n",
      "Fitting 5 folds for each of 8 candidates, totalling 40 fits\n"
     ]
    },
    {
     "name": "stderr",
     "output_type": "stream",
     "text": [
      "[Parallel(n_jobs=-1)]: Using backend LokyBackend with 8 concurrent workers.\n",
      "[Parallel(n_jobs=-1)]: Done  40 out of  40 | elapsed:  1.3min finished\n"
     ]
    },
    {
     "name": "stdout",
     "output_type": "stream",
     "text": [
      "0.8509618436401258\n",
      "{'max_features': 4, 'n_estimators': 1024}\n",
      "Best acc score for RandomForestClassifier(bootstrap=True, ccp_alpha=0.0, class_weight=None,\n",
      "                       criterion='gini', max_depth=None, max_features='auto',\n",
      "                       max_leaf_nodes=None, max_samples=None,\n",
      "                       min_impurity_decrease=0.0, min_impurity_split=None,\n",
      "                       min_samples_leaf=1, min_samples_split=2,\n",
      "                       min_weight_fraction_leaf=0.0, n_estimators=100,\n",
      "                       n_jobs=None, oob_score=False, random_state=None,\n",
      "                       verbose=0, warm_start=False)\n",
      "0.8499676431430256\n",
      "Starting new Model: GradientBoostingClassifier(ccp_alpha=0.0, criterion='friedman_mse', init=None,\n",
      "                           learning_rate=0.1, loss='deviance', max_depth=3,\n",
      "                           max_features=None, max_leaf_nodes=None,\n",
      "                           min_impurity_decrease=0.0, min_impurity_split=None,\n",
      "                           min_samples_leaf=1, min_samples_split=2,\n",
      "                           min_weight_fraction_leaf=0.0, n_estimators=100,\n",
      "                           n_iter_no_change=None, presort='deprecated',\n",
      "                           random_state=None, subsample=1.0, tol=0.0001,\n",
      "                           validation_fraction=0.1, verbose=0,\n",
      "                           warm_start=False)\n",
      "Starting iteration 1\n",
      "Fitting 5 folds for each of 9 candidates, totalling 45 fits\n"
     ]
    },
    {
     "name": "stderr",
     "output_type": "stream",
     "text": [
      "[Parallel(n_jobs=-1)]: Using backend LokyBackend with 8 concurrent workers.\n",
      "[Parallel(n_jobs=-1)]: Done  30 out of  45 | elapsed:    2.2s remaining:    1.1s\n",
      "[Parallel(n_jobs=-1)]: Done  45 out of  45 | elapsed:   20.0s finished\n"
     ]
    },
    {
     "name": "stdout",
     "output_type": "stream",
     "text": [
      "0.8624005078171694\n",
      "{'n_estimators': 128}\n",
      "Starting iteration 2\n",
      "Fitting 5 folds for each of 9 candidates, totalling 45 fits\n"
     ]
    },
    {
     "name": "stderr",
     "output_type": "stream",
     "text": [
      "[Parallel(n_jobs=-1)]: Using backend LokyBackend with 8 concurrent workers.\n",
      "[Parallel(n_jobs=-1)]: Done  30 out of  45 | elapsed:    2.2s remaining:    1.1s\n",
      "[Parallel(n_jobs=-1)]: Done  45 out of  45 | elapsed:   20.5s finished\n"
     ]
    },
    {
     "name": "stdout",
     "output_type": "stream",
     "text": [
      "0.8624005078171694\n",
      "{'n_estimators': 128}\n",
      "Starting iteration 3\n",
      "Fitting 5 folds for each of 9 candidates, totalling 45 fits\n"
     ]
    },
    {
     "name": "stderr",
     "output_type": "stream",
     "text": [
      "[Parallel(n_jobs=-1)]: Using backend LokyBackend with 8 concurrent workers.\n",
      "[Parallel(n_jobs=-1)]: Done  30 out of  45 | elapsed:    2.2s remaining:    1.1s\n",
      "[Parallel(n_jobs=-1)]: Done  45 out of  45 | elapsed:   20.3s finished\n"
     ]
    },
    {
     "name": "stdout",
     "output_type": "stream",
     "text": [
      "0.8622346703378989\n",
      "{'n_estimators': 128}\n",
      "Best acc score for GradientBoostingClassifier(ccp_alpha=0.0, criterion='friedman_mse', init=None,\n",
      "                           learning_rate=0.1, loss='deviance', max_depth=3,\n",
      "                           max_features=None, max_leaf_nodes=None,\n",
      "                           min_impurity_decrease=0.0, min_impurity_split=None,\n",
      "                           min_samples_leaf=1, min_samples_split=2,\n",
      "                           min_weight_fraction_leaf=0.0, n_estimators=100,\n",
      "                           n_iter_no_change=None, presort='deprecated',\n",
      "                           random_state=None, subsample=1.0, tol=0.0001,\n",
      "                           validation_fraction=0.1, verbose=0,\n",
      "                           warm_start=False)\n",
      "0.8624005078171694\n"
     ]
    }
   ],
   "source": [
    "mp_dict = {\n",
    "    LogisticRegression(): {\n",
    "        'C': [10 ** i for i in range(-8, 4)]\n",
    "    },\n",
    "    LinearSVC(): {\n",
    "        'C': [10 ** i for i in range(-5, 3)]\n",
    "    },\n",
    "#     SVC(kernel = 'poly'): {\n",
    "#         'C': [10 ** i for i in range(-5, 3)],\n",
    "#         'degree': [i for i in range(1, 4)]\n",
    "#     },\n",
    "    KNeighborsClassifier(): {\n",
    "        'n_neighbors': [1, 2, 3, 5, 7, 10, 15, 25, 50, 100, 500]\n",
    "    },\n",
    "    RandomForestClassifier(): {\n",
    "        'max_features': [1, 2, 4, 6, 8, 12 ,16, 20],\n",
    "        'n_estimators': [1024]\n",
    "    },\n",
    "    GradientBoostingClassifier(): {\n",
    "        'n_estimators': [2, 4, 8, 16, 32, 64, 128, 512, 1024]\n",
    "    }\n",
    "}\n",
    "categorical = ['workclass', 'education', 'marital.status', 'occupation', 'relationship', 'race', 'sex', 'native.country']\n",
    "trials = 3\n",
    "partitions = [0.2, 0.5, 0.8]\n",
    "\n",
    "\n",
    "result, trainEval, testEval = evalModels(mp_dict, trials, partitions, categorical, X, y)"
   ]
  },
  {
   "cell_type": "code",
   "execution_count": 14,
   "metadata": {},
   "outputs": [],
   "source": [
    "resultBackup = result"
   ]
  },
  {
   "cell_type": "code",
   "execution_count": 15,
   "metadata": {},
   "outputs": [
    {
     "name": "stdout",
     "output_type": "stream",
     "text": [
      "Summary of results: \n",
      "{'0.2': {'LogisticRegression': {'params': {'C': 0.1}, 'mean_test_accuracy': 0.8222055146024664, 'std_test_accuracy': 0.003503586126883561, 'mean_test_f1': 0.5638574281658426, 'std_test_f1': 0.010885518855801942}, 'LinearSVC': {'params': {'C': 1}, 'mean_test_accuracy': 0.8210865325772103, 'std_test_accuracy': 0.0047654371811858155, 'mean_test_f1': 0.5446180319205758, 'std_test_f1': 0.013343583563805474}, 'KNeighborsClassifier': {'params': {'n_neighbors': 25}, 'mean_test_accuracy': 0.8322763957750441, 'std_test_accuracy': 0.0033307027287857362, 'mean_test_f1': 0.6256503165524642, 'std_test_f1': 0.007611951413375969}, 'RandomForestClassifier': {'params': {'max_features': 2, 'n_estimators': 1024}, 'mean_test_accuracy': 0.8559825899864508, 'std_test_accuracy': 0.003360002895327758, 'mean_test_f1': 0.6860632455627886, 'std_test_f1': 0.009041417790283474}, 'GradientBoostingClassifier': {'params': {'n_estimators': 512}, 'mean_test_accuracy': 0.8701148828989776, 'std_test_accuracy': 0.004269055046492941, 'mean_test_f1': 0.7140052223907883, 'std_test_f1': 0.01133666882109873}}, '0.5': {'LogisticRegression': {'params': {'C': 0.1}, 'mean_test_accuracy': 0.8228892157526447, 'std_test_accuracy': 0.00578613085116886, 'mean_test_f1': 0.5695745767202254, 'std_test_f1': 0.018194906294688416}, 'LinearSVC': {'params': {'C': 10}, 'mean_test_accuracy': 0.8204359425677131, 'std_test_accuracy': 0.004455822614659393, 'mean_test_f1': 0.5477124973940383, 'std_test_f1': 0.016602156092405784}, 'KNeighborsClassifier': {'params': {'n_neighbors': 25}, 'mean_test_accuracy': 0.8313767518983936, 'std_test_accuracy': 0.005444523497835085, 'mean_test_f1': 0.6273789181264388, 'std_test_f1': 0.014457864763019617}, 'RandomForestClassifier': {'params': {'max_features': 1, 'n_estimators': 1024}, 'mean_test_accuracy': 0.8559108245143128, 'std_test_accuracy': 0.006724165826369794, 'mean_test_f1': 0.6829494614759871, 'std_test_f1': 0.015445318832770921}, 'GradientBoostingClassifier': {'params': {'n_estimators': 512}, 'mean_test_accuracy': 0.8689737596590146, 'std_test_accuracy': 0.003877564004524905, 'mean_test_f1': 0.7152552924985182, 'std_test_f1': 0.010888669731996262}}, '0.8': {'LogisticRegression': {'params': {'C': 0.1}, 'mean_test_accuracy': 0.8227804638777941, 'std_test_accuracy': 0.006330178333655567, 'mean_test_f1': 0.5521209285534286, 'std_test_f1': 0.01932586790030575}, 'LinearSVC': {'params': {'C': 0.01}, 'mean_test_accuracy': 0.8224498880906157, 'std_test_accuracy': 0.008163402403309473, 'mean_test_f1': 0.5366645389389626, 'std_test_f1': 0.02213296541911558}, 'KNeighborsClassifier': {'params': {'n_neighbors': 15}, 'mean_test_accuracy': 0.8183049128837998, 'std_test_accuracy': 0.007668978292379195, 'mean_test_f1': 0.581343634225679, 'std_test_f1': 0.013418569555411068}, 'RandomForestClassifier': {'params': {'max_features': 4, 'n_estimators': 1024}, 'mean_test_accuracy': 0.8499676431430256, 'std_test_accuracy': 0.00480694515110092, 'mean_test_f1': 0.6622977415848015, 'std_test_f1': 0.008388853293889609}, 'GradientBoostingClassifier': {'params': {'n_estimators': 128}, 'mean_test_accuracy': 0.8624005078171694, 'std_test_accuracy': 0.0026213260435952327, 'mean_test_f1': 0.6799994357738919, 'std_test_f1': 0.013849853146947479}}}\n",
      "Test evals: \n",
      "{'0.2': {'LogisticRegression': {'accuracy': 0.814685894248301, 'f1': 0.5563492063492064}, 'LinearSVC': {'accuracy': 0.8123653240510526, 'f1': 0.5337726523887973}, 'KNeighborsClassifier': {'accuracy': 0.8233051549809381, 'f1': 0.6176470588235293}, 'RandomForestClassifier': {'accuracy': 0.8511519973479198, 'f1': 0.6824611032531825}, 'GradientBoostingClassifier': {'accuracy': 0.8625890933200729, 'f1': 0.7067562787407146}}, '0.5': {'LogisticRegression': {'accuracy': 0.8204363105894834, 'f1': 0.5619540601747007}, 'LinearSVC': {'accuracy': 0.8193753729858763, 'f1': 0.5368922135328119}, 'KNeighborsClassifier': {'accuracy': 0.8252105298057159, 'f1': 0.6149576394975167}, 'RandomForestClassifier': {'accuracy': 0.8476891452821431, 'f1': 0.6668600435097898}, 'GradientBoostingClassifier': {'accuracy': 0.8656587759432398, 'f1': 0.7082373271889402}}, '0.8': {'LogisticRegression': {'accuracy': 0.819477828429341, 'f1': 0.5606213435545693}, 'LinearSVC': {'accuracy': 0.8179859096560298, 'f1': 0.5406818657184689}, 'KNeighborsClassifier': {'accuracy': 0.8244923331951927, 'f1': 0.615174920490686}, 'RandomForestClassifier': {'accuracy': 0.8481558226274347, 'f1': 0.6764965565954442}, 'GradientBoostingClassifier': {'accuracy': 0.860132615002072, 'f1': 0.6919214970333182}}}\n"
     ]
    }
   ],
   "source": [
    "print(\"Summary of results: \")\n",
    "resultSum = resultSummary(result)\n",
    "print(resultSum)\n",
    "print(\"Test evals: \")\n",
    "print(testEval)"
   ]
  },
  {
   "cell_type": "code",
   "execution_count": 16,
   "metadata": {},
   "outputs": [],
   "source": [
    "# Summary of results: \n",
    "# {'0.2': {'LogisticRegression': {'params': {'C': 0.1}, 'mean_test_accuracy': 0.8235733816610802, 'mean_test_f1': 0.5652042783133927}, 'LinearSVC': {'params': {'C': 1}, 'mean_test_accuracy': 0.8196364596776098, 'mean_test_f1': 0.5349997399093454}, 'KNeighborsClassifier': {'params': {'n_neighbors': 25}, 'mean_test_accuracy': 0.8304528965512799, 'mean_test_f1': 0.6249653545829906}, 'RandomForestClassifier': {'params': {'max_features': 2, 'n_estimators': 1024}, 'mean_test_accuracy': 0.8549876596758921, 'mean_test_f1': 0.6847844110219501}, 'GradientBoostingClassifier': {'params': {'n_estimators': 512}, 'mean_test_accuracy': 0.8686640885187961, 'mean_test_f1': 0.7137364060011511}}, '0.5': {'LogisticRegression': {'params': {'C': 0.1}, 'mean_test_accuracy': 0.8248121168374789, 'mean_test_f1': 0.5712530687456912}, 'LinearSVC': {'params': {'C': 1}, 'mean_test_accuracy': 0.822093635622718, 'mean_test_f1': 0.5447817079406571}, 'KNeighborsClassifier': {'params': {'n_neighbors': 15}, 'mean_test_accuracy': 0.8291896098940663, 'mean_test_f1': 0.6246361951660419}, 'RandomForestClassifier': {'params': {'max_features': 4, 'n_estimators': 1024}, 'mean_test_accuracy': 0.8518003857891049, 'mean_test_f1': 0.6823738123562695}, 'GradientBoostingClassifier': {'params': {'n_estimators': 512}, 'mean_test_accuracy': 0.8695048351120838, 'mean_test_f1': 0.7140236479476625}}, '0.8': {'LogisticRegression': {'params': {'C': 10}, 'mean_test_accuracy': 0.8255959913220421, 'mean_test_f1': 0.5601809101543567}, 'LinearSVC': {'params': {'C': 1}, 'mean_test_accuracy': 0.8265926649547073, 'mean_test_f1': 0.5579410463494652}, 'KNeighborsClassifier': {'params': {'n_neighbors': 15}, 'mean_test_accuracy': 0.8204564034288652, 'mean_test_f1': 0.6145556118624702}, 'RandomForestClassifier': {'params': {'max_features': 1, 'n_estimators': 1024}, 'mean_test_accuracy': 0.8512915950487827, 'mean_test_f1': 0.6601491817387592}, 'GradientBoostingClassifier': {'params': {'n_estimators': 128}, 'mean_test_accuracy': 0.8592511070716563, 'mean_test_f1': 0.6687497604151422}}}\n",
    "# Test evals: \n",
    "# {'0.2': {'LogisticRegression': {'accuracy': 0.8077241836565556, 'f1': 0.5429472025216706}, 'LinearSVC': {'accuracy': 0.8180009945300846, 'f1': 0.5507364975450082}, 'KNeighborsClassifier': {'accuracy': 0.8324216807558429, 'f1': 0.6281721221037148}, 'RandomForestClassifier': {'accuracy': 0.8511519973479198, 'f1': 0.6736918604651162}, 'GradientBoostingClassifier': {'accuracy': 0.863583623404608, 'f1': 0.7076376554174068}}, '0.5': {'LogisticRegression': {'accuracy': 0.8186459783833964, 'f1': 0.5580869284213927}, 'LinearSVC': {'accuracy': 0.8163251773755056, 'f1': 0.5338269942780208}, 'KNeighborsClassifier': {'accuracy': 0.8264040846097739, 'f1': 0.6131796690307328}, 'RandomForestClassifier': {'accuracy': 0.8508719580929647, 'f1': 0.6779321208649578}, 'GradientBoostingClassifier': {'accuracy': 0.8651946157416617, 'f1': 0.7072714182865371}}, '0.8': {'LogisticRegression': {'accuracy': 0.8170327393286365, 'f1': 0.5486146610775995}, 'LinearSVC': {'accuracy': 0.8181102362204724, 'f1': 0.5429553264604812}, 'KNeighborsClassifier': {'accuracy': 0.8231661831744717, 'f1': 0.6191198786039454}, 'RandomForestClassifier': {'accuracy': 0.8459593866556154, 'f1': 0.6580811332904056}, 'GradientBoostingClassifier': {'accuracy': 0.8591794446746788, 'f1': 0.6844353640416047}}}\n"
   ]
  },
  {
   "cell_type": "code",
   "execution_count": 17,
   "metadata": {},
   "outputs": [],
   "source": [
    "import csv\n",
    "csv_columns = [\"Model\", \"Partition\", \"Params\", \"Train_Acc\", \"Train_F1\", \"Val_Acc\", \"Val_F1\", \"Test_Acc\", \"Test_F1\", \"Acc_Std\", \"F1_Std\"]\n",
    "csv_file = \"ADULT_EvalResults.csv\"\n",
    "try:\n",
    "    with open(csv_file, 'w') as csvfile:\n",
    "        writer = csv.writer(csvfile)\n",
    "        writer.writerow(csv_columns)\n",
    "        \n",
    "        modelList = resultSum['0.2'].keys()\n",
    "        for modelName in modelList:\n",
    "            for partition in resultSum:\n",
    "                params = resultSum[partition][modelName]['params']\n",
    "                val_acc_std = resultSum[partition][modelName]['std_test_accuracy']\n",
    "                val_acc = resultSum[partition][modelName]['mean_test_accuracy']\n",
    "                val_f1_std = resultSum[partition][modelName]['std_test_f1']\n",
    "                val_f1 = resultSum[partition][modelName]['mean_test_f1']\n",
    "                \n",
    "                test_acc = testEval[partition][modelName]['accuracy']\n",
    "                test_f1 = testEval[partition][modelName]['f1']\n",
    "                \n",
    "                train_acc = trainEval[partition][modelName]['accuracy']\n",
    "                train_f1 = trainEval[partition][modelName]['f1']\n",
    "                \n",
    "                writer.writerow([modelName, partition, params, train_acc, train_f1, val_acc, val_f1, test_acc, test_f1, val_acc_std, val_f1_std])\n",
    "\n",
    "except IOError:\n",
    "    print(\"I/O error\")"
   ]
  },
  {
   "cell_type": "code",
   "execution_count": 18,
   "metadata": {},
   "outputs": [
    {
     "data": {
      "text/html": [
       "<div>\n",
       "<style scoped>\n",
       "    .dataframe tbody tr th:only-of-type {\n",
       "        vertical-align: middle;\n",
       "    }\n",
       "\n",
       "    .dataframe tbody tr th {\n",
       "        vertical-align: top;\n",
       "    }\n",
       "\n",
       "    .dataframe thead th {\n",
       "        text-align: right;\n",
       "    }\n",
       "</style>\n",
       "<table border=\"1\" class=\"dataframe\">\n",
       "  <thead>\n",
       "    <tr style=\"text-align: right;\">\n",
       "      <th></th>\n",
       "      <th>Model</th>\n",
       "      <th>Partition</th>\n",
       "      <th>Params</th>\n",
       "      <th>Train_Acc</th>\n",
       "      <th>Train_F1</th>\n",
       "      <th>Val_Acc</th>\n",
       "      <th>Val_F1</th>\n",
       "      <th>Test_Acc</th>\n",
       "      <th>Test_F1</th>\n",
       "      <th>Acc_Std</th>\n",
       "      <th>F1_Std</th>\n",
       "    </tr>\n",
       "  </thead>\n",
       "  <tbody>\n",
       "    <tr>\n",
       "      <th>0</th>\n",
       "      <td>LogisticRegression</td>\n",
       "      <td>0.2</td>\n",
       "      <td>{'C': 0.1}</td>\n",
       "      <td>0.822289</td>\n",
       "      <td>0.564050</td>\n",
       "      <td>0.822206</td>\n",
       "      <td>0.563857</td>\n",
       "      <td>0.814686</td>\n",
       "      <td>0.556349</td>\n",
       "      <td>0.003504</td>\n",
       "      <td>0.010886</td>\n",
       "    </tr>\n",
       "    <tr>\n",
       "      <th>1</th>\n",
       "      <td>LogisticRegression</td>\n",
       "      <td>0.5</td>\n",
       "      <td>{'C': 0.1}</td>\n",
       "      <td>0.823884</td>\n",
       "      <td>0.572853</td>\n",
       "      <td>0.822889</td>\n",
       "      <td>0.569575</td>\n",
       "      <td>0.820436</td>\n",
       "      <td>0.561954</td>\n",
       "      <td>0.005786</td>\n",
       "      <td>0.018195</td>\n",
       "    </tr>\n",
       "    <tr>\n",
       "      <th>2</th>\n",
       "      <td>LogisticRegression</td>\n",
       "      <td>0.8</td>\n",
       "      <td>{'C': 0.1}</td>\n",
       "      <td>0.824105</td>\n",
       "      <td>0.556253</td>\n",
       "      <td>0.822780</td>\n",
       "      <td>0.552121</td>\n",
       "      <td>0.819478</td>\n",
       "      <td>0.560621</td>\n",
       "      <td>0.006330</td>\n",
       "      <td>0.019326</td>\n",
       "    </tr>\n",
       "    <tr>\n",
       "      <th>3</th>\n",
       "      <td>LinearSVC</td>\n",
       "      <td>0.2</td>\n",
       "      <td>{'C': 1}</td>\n",
       "      <td>0.821252</td>\n",
       "      <td>0.545378</td>\n",
       "      <td>0.821087</td>\n",
       "      <td>0.544618</td>\n",
       "      <td>0.812365</td>\n",
       "      <td>0.533773</td>\n",
       "      <td>0.004765</td>\n",
       "      <td>0.013344</td>\n",
       "    </tr>\n",
       "    <tr>\n",
       "      <th>4</th>\n",
       "      <td>LinearSVC</td>\n",
       "      <td>0.5</td>\n",
       "      <td>{'C': 10}</td>\n",
       "      <td>0.820171</td>\n",
       "      <td>0.543895</td>\n",
       "      <td>0.820436</td>\n",
       "      <td>0.547712</td>\n",
       "      <td>0.819375</td>\n",
       "      <td>0.536892</td>\n",
       "      <td>0.004456</td>\n",
       "      <td>0.016602</td>\n",
       "    </tr>\n",
       "    <tr>\n",
       "      <th>5</th>\n",
       "      <td>LinearSVC</td>\n",
       "      <td>0.8</td>\n",
       "      <td>{'C': 0.01}</td>\n",
       "      <td>0.824602</td>\n",
       "      <td>0.543178</td>\n",
       "      <td>0.822450</td>\n",
       "      <td>0.536665</td>\n",
       "      <td>0.817986</td>\n",
       "      <td>0.540682</td>\n",
       "      <td>0.008163</td>\n",
       "      <td>0.022133</td>\n",
       "    </tr>\n",
       "    <tr>\n",
       "      <th>6</th>\n",
       "      <td>KNeighborsClassifier</td>\n",
       "      <td>0.2</td>\n",
       "      <td>{'n_neighbors': 25}</td>\n",
       "      <td>0.846243</td>\n",
       "      <td>0.657686</td>\n",
       "      <td>0.832276</td>\n",
       "      <td>0.625650</td>\n",
       "      <td>0.823305</td>\n",
       "      <td>0.617647</td>\n",
       "      <td>0.003331</td>\n",
       "      <td>0.007612</td>\n",
       "    </tr>\n",
       "    <tr>\n",
       "      <th>7</th>\n",
       "      <td>KNeighborsClassifier</td>\n",
       "      <td>0.5</td>\n",
       "      <td>{'n_neighbors': 25}</td>\n",
       "      <td>0.845634</td>\n",
       "      <td>0.660542</td>\n",
       "      <td>0.831377</td>\n",
       "      <td>0.627379</td>\n",
       "      <td>0.825211</td>\n",
       "      <td>0.614958</td>\n",
       "      <td>0.005445</td>\n",
       "      <td>0.014458</td>\n",
       "    </tr>\n",
       "    <tr>\n",
       "      <th>8</th>\n",
       "      <td>KNeighborsClassifier</td>\n",
       "      <td>0.8</td>\n",
       "      <td>{'n_neighbors': 15}</td>\n",
       "      <td>0.841678</td>\n",
       "      <td>0.636744</td>\n",
       "      <td>0.818305</td>\n",
       "      <td>0.581344</td>\n",
       "      <td>0.824492</td>\n",
       "      <td>0.615175</td>\n",
       "      <td>0.007669</td>\n",
       "      <td>0.013419</td>\n",
       "    </tr>\n",
       "    <tr>\n",
       "      <th>9</th>\n",
       "      <td>RandomForestClassifier</td>\n",
       "      <td>0.2</td>\n",
       "      <td>{'max_features': 2, 'n_estimators': 1024}</td>\n",
       "      <td>0.999959</td>\n",
       "      <td>0.999916</td>\n",
       "      <td>0.855983</td>\n",
       "      <td>0.686063</td>\n",
       "      <td>0.851152</td>\n",
       "      <td>0.682461</td>\n",
       "      <td>0.003360</td>\n",
       "      <td>0.009041</td>\n",
       "    </tr>\n",
       "    <tr>\n",
       "      <th>10</th>\n",
       "      <td>RandomForestClassifier</td>\n",
       "      <td>0.5</td>\n",
       "      <td>{'max_features': 1, 'n_estimators': 1024}</td>\n",
       "      <td>1.000000</td>\n",
       "      <td>1.000000</td>\n",
       "      <td>0.855911</td>\n",
       "      <td>0.682949</td>\n",
       "      <td>0.847689</td>\n",
       "      <td>0.666860</td>\n",
       "      <td>0.006724</td>\n",
       "      <td>0.015445</td>\n",
       "    </tr>\n",
       "    <tr>\n",
       "      <th>11</th>\n",
       "      <td>RandomForestClassifier</td>\n",
       "      <td>0.8</td>\n",
       "      <td>{'max_features': 4, 'n_estimators': 1024}</td>\n",
       "      <td>0.999834</td>\n",
       "      <td>0.999657</td>\n",
       "      <td>0.849968</td>\n",
       "      <td>0.662298</td>\n",
       "      <td>0.848156</td>\n",
       "      <td>0.676497</td>\n",
       "      <td>0.004807</td>\n",
       "      <td>0.008389</td>\n",
       "    </tr>\n",
       "    <tr>\n",
       "      <th>12</th>\n",
       "      <td>GradientBoostingClassifier</td>\n",
       "      <td>0.2</td>\n",
       "      <td>{'n_estimators': 512}</td>\n",
       "      <td>0.887936</td>\n",
       "      <td>0.753913</td>\n",
       "      <td>0.870115</td>\n",
       "      <td>0.714005</td>\n",
       "      <td>0.862589</td>\n",
       "      <td>0.706756</td>\n",
       "      <td>0.004269</td>\n",
       "      <td>0.011337</td>\n",
       "    </tr>\n",
       "    <tr>\n",
       "      <th>13</th>\n",
       "      <td>GradientBoostingClassifier</td>\n",
       "      <td>0.5</td>\n",
       "      <td>{'n_estimators': 512}</td>\n",
       "      <td>0.895498</td>\n",
       "      <td>0.773953</td>\n",
       "      <td>0.868974</td>\n",
       "      <td>0.715255</td>\n",
       "      <td>0.865659</td>\n",
       "      <td>0.708237</td>\n",
       "      <td>0.003878</td>\n",
       "      <td>0.010889</td>\n",
       "    </tr>\n",
       "    <tr>\n",
       "      <th>14</th>\n",
       "      <td>GradientBoostingClassifier</td>\n",
       "      <td>0.8</td>\n",
       "      <td>{'n_estimators': 128}</td>\n",
       "      <td>0.884450</td>\n",
       "      <td>0.730368</td>\n",
       "      <td>0.862401</td>\n",
       "      <td>0.679999</td>\n",
       "      <td>0.860133</td>\n",
       "      <td>0.691921</td>\n",
       "      <td>0.002621</td>\n",
       "      <td>0.013850</td>\n",
       "    </tr>\n",
       "  </tbody>\n",
       "</table>\n",
       "</div>"
      ],
      "text/plain": [
       "                         Model  Partition  \\\n",
       "0           LogisticRegression        0.2   \n",
       "1           LogisticRegression        0.5   \n",
       "2           LogisticRegression        0.8   \n",
       "3                    LinearSVC        0.2   \n",
       "4                    LinearSVC        0.5   \n",
       "5                    LinearSVC        0.8   \n",
       "6         KNeighborsClassifier        0.2   \n",
       "7         KNeighborsClassifier        0.5   \n",
       "8         KNeighborsClassifier        0.8   \n",
       "9       RandomForestClassifier        0.2   \n",
       "10      RandomForestClassifier        0.5   \n",
       "11      RandomForestClassifier        0.8   \n",
       "12  GradientBoostingClassifier        0.2   \n",
       "13  GradientBoostingClassifier        0.5   \n",
       "14  GradientBoostingClassifier        0.8   \n",
       "\n",
       "                                       Params  Train_Acc  Train_F1   Val_Acc  \\\n",
       "0                                  {'C': 0.1}   0.822289  0.564050  0.822206   \n",
       "1                                  {'C': 0.1}   0.823884  0.572853  0.822889   \n",
       "2                                  {'C': 0.1}   0.824105  0.556253  0.822780   \n",
       "3                                    {'C': 1}   0.821252  0.545378  0.821087   \n",
       "4                                   {'C': 10}   0.820171  0.543895  0.820436   \n",
       "5                                 {'C': 0.01}   0.824602  0.543178  0.822450   \n",
       "6                         {'n_neighbors': 25}   0.846243  0.657686  0.832276   \n",
       "7                         {'n_neighbors': 25}   0.845634  0.660542  0.831377   \n",
       "8                         {'n_neighbors': 15}   0.841678  0.636744  0.818305   \n",
       "9   {'max_features': 2, 'n_estimators': 1024}   0.999959  0.999916  0.855983   \n",
       "10  {'max_features': 1, 'n_estimators': 1024}   1.000000  1.000000  0.855911   \n",
       "11  {'max_features': 4, 'n_estimators': 1024}   0.999834  0.999657  0.849968   \n",
       "12                      {'n_estimators': 512}   0.887936  0.753913  0.870115   \n",
       "13                      {'n_estimators': 512}   0.895498  0.773953  0.868974   \n",
       "14                      {'n_estimators': 128}   0.884450  0.730368  0.862401   \n",
       "\n",
       "      Val_F1  Test_Acc   Test_F1   Acc_Std    F1_Std  \n",
       "0   0.563857  0.814686  0.556349  0.003504  0.010886  \n",
       "1   0.569575  0.820436  0.561954  0.005786  0.018195  \n",
       "2   0.552121  0.819478  0.560621  0.006330  0.019326  \n",
       "3   0.544618  0.812365  0.533773  0.004765  0.013344  \n",
       "4   0.547712  0.819375  0.536892  0.004456  0.016602  \n",
       "5   0.536665  0.817986  0.540682  0.008163  0.022133  \n",
       "6   0.625650  0.823305  0.617647  0.003331  0.007612  \n",
       "7   0.627379  0.825211  0.614958  0.005445  0.014458  \n",
       "8   0.581344  0.824492  0.615175  0.007669  0.013419  \n",
       "9   0.686063  0.851152  0.682461  0.003360  0.009041  \n",
       "10  0.682949  0.847689  0.666860  0.006724  0.015445  \n",
       "11  0.662298  0.848156  0.676497  0.004807  0.008389  \n",
       "12  0.714005  0.862589  0.706756  0.004269  0.011337  \n",
       "13  0.715255  0.865659  0.708237  0.003878  0.010889  \n",
       "14  0.679999  0.860133  0.691921  0.002621  0.013850  "
      ]
     },
     "execution_count": 18,
     "metadata": {},
     "output_type": "execute_result"
    }
   ],
   "source": [
    "result_df = pd.read_csv(\"ADULT_EvalResults.csv\")\n",
    "result_df"
   ]
  },
  {
   "cell_type": "code",
   "execution_count": null,
   "metadata": {},
   "outputs": [],
   "source": []
  }
 ],
 "metadata": {
  "kernelspec": {
   "display_name": "Python 3",
   "language": "python",
   "name": "python3"
  },
  "language_info": {
   "codemirror_mode": {
    "name": "ipython",
    "version": 3
   },
   "file_extension": ".py",
   "mimetype": "text/x-python",
   "name": "python",
   "nbconvert_exporter": "python",
   "pygments_lexer": "ipython3",
   "version": "3.7.3"
  }
 },
 "nbformat": 4,
 "nbformat_minor": 2
}
